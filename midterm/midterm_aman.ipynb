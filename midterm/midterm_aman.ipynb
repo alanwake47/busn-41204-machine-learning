{
 "cells": [
  {
   "cell_type": "code",
   "execution_count": 8,
   "metadata": {},
   "outputs": [],
   "source": [
    "# First we import the necessary libraries\n",
    "import pandas as pd\n",
    "pd.set_option(\"display.precision\", 4)\n",
    "import numpy as np\n",
    "from matplotlib import pyplot as plt\n",
    "from sklearn.linear_model import LinearRegression\n",
    "from sklearn.metrics import mean_squared_error\n",
    "from sklearn.model_selection import train_test_split\n",
    "from statsmodels.formula.api import ols\n",
    "import plotnine as p9\n",
    "import warnings\n",
    "warnings.filterwarnings(\"ignore\")\n",
    "pd.options.display.float_format = '{:.4f}'.format\n",
    "pd.options.mode.chained_assignment = None  # default='warn'\n",
    "from IPython.display import Markdown, display\n",
    "def printmd(string):\n",
    "    display(Markdown(string))"
   ]
  },
  {
   "attachments": {},
   "cell_type": "markdown",
   "metadata": {},
   "source": [
    "---"
   ]
  },
  {
   "attachments": {},
   "cell_type": "markdown",
   "metadata": {},
   "source": [
    "### 1 Question [30 points]\n",
    "#### The file eBayAuctions.csv contains information on 1972 auctions transacted on eBay.com during May–June 2004. The goal is to use these data to build a model that will distinguish competitive auctions from noncompetitive ones. A competitive auction is defined as an auction with at least two bids placed on the item being auctioned. The data include variables that describe the item (auction category), the seller (his or her eBay rating), and the auction terms that the seller selected (auction duration, opening price, currency, day of week of auction close). In addition, we have the price at which the auction closed. The goal is to predict whether or not an auction of interest will be competitive."
   ]
  },
  {
   "attachments": {},
   "cell_type": "markdown",
   "metadata": {},
   "source": [
    "#### Pull the relevant data"
   ]
  },
  {
   "cell_type": "code",
   "execution_count": 4,
   "metadata": {},
   "outputs": [
    {
     "data": {
      "text/html": [
       "<div>\n",
       "<style scoped>\n",
       "    .dataframe tbody tr th:only-of-type {\n",
       "        vertical-align: middle;\n",
       "    }\n",
       "\n",
       "    .dataframe tbody tr th {\n",
       "        vertical-align: top;\n",
       "    }\n",
       "\n",
       "    .dataframe thead th {\n",
       "        text-align: right;\n",
       "    }\n",
       "</style>\n",
       "<table border=\"1\" class=\"dataframe\">\n",
       "  <thead>\n",
       "    <tr style=\"text-align: right;\">\n",
       "      <th></th>\n",
       "      <th>Category</th>\n",
       "      <th>currency</th>\n",
       "      <th>sellerRating</th>\n",
       "      <th>Duration</th>\n",
       "      <th>endDay</th>\n",
       "      <th>ClosePrice</th>\n",
       "      <th>OpenPrice</th>\n",
       "      <th>Competitive?</th>\n",
       "    </tr>\n",
       "  </thead>\n",
       "  <tbody>\n",
       "    <tr>\n",
       "      <th>0</th>\n",
       "      <td>Music/Movie/Game</td>\n",
       "      <td>US</td>\n",
       "      <td>3249</td>\n",
       "      <td>5</td>\n",
       "      <td>Mon</td>\n",
       "      <td>0.0100</td>\n",
       "      <td>0.0100</td>\n",
       "      <td>0</td>\n",
       "    </tr>\n",
       "    <tr>\n",
       "      <th>1</th>\n",
       "      <td>Music/Movie/Game</td>\n",
       "      <td>US</td>\n",
       "      <td>3249</td>\n",
       "      <td>5</td>\n",
       "      <td>Mon</td>\n",
       "      <td>0.0100</td>\n",
       "      <td>0.0100</td>\n",
       "      <td>0</td>\n",
       "    </tr>\n",
       "    <tr>\n",
       "      <th>2</th>\n",
       "      <td>Music/Movie/Game</td>\n",
       "      <td>US</td>\n",
       "      <td>3249</td>\n",
       "      <td>5</td>\n",
       "      <td>Mon</td>\n",
       "      <td>0.0100</td>\n",
       "      <td>0.0100</td>\n",
       "      <td>0</td>\n",
       "    </tr>\n",
       "    <tr>\n",
       "      <th>3</th>\n",
       "      <td>Music/Movie/Game</td>\n",
       "      <td>US</td>\n",
       "      <td>3249</td>\n",
       "      <td>5</td>\n",
       "      <td>Mon</td>\n",
       "      <td>0.0100</td>\n",
       "      <td>0.0100</td>\n",
       "      <td>0</td>\n",
       "    </tr>\n",
       "    <tr>\n",
       "      <th>4</th>\n",
       "      <td>Music/Movie/Game</td>\n",
       "      <td>US</td>\n",
       "      <td>3249</td>\n",
       "      <td>5</td>\n",
       "      <td>Mon</td>\n",
       "      <td>0.0100</td>\n",
       "      <td>0.0100</td>\n",
       "      <td>0</td>\n",
       "    </tr>\n",
       "  </tbody>\n",
       "</table>\n",
       "</div>"
      ],
      "text/plain": [
       "           Category currency  sellerRating  Duration endDay  ClosePrice  \\\n",
       "0  Music/Movie/Game       US          3249         5    Mon      0.0100   \n",
       "1  Music/Movie/Game       US          3249         5    Mon      0.0100   \n",
       "2  Music/Movie/Game       US          3249         5    Mon      0.0100   \n",
       "3  Music/Movie/Game       US          3249         5    Mon      0.0100   \n",
       "4  Music/Movie/Game       US          3249         5    Mon      0.0100   \n",
       "\n",
       "   OpenPrice  Competitive?  \n",
       "0     0.0100             0  \n",
       "1     0.0100             0  \n",
       "2     0.0100             0  \n",
       "3     0.0100             0  \n",
       "4     0.0100             0  "
      ]
     },
     "execution_count": 4,
     "metadata": {},
     "output_type": "execute_result"
    }
   ],
   "source": [
    "data = pd.read_csv(\"eBayAuctions.csv\")\n",
    "data.head(5)"
   ]
  },
  {
   "attachments": {},
   "cell_type": "markdown",
   "metadata": {},
   "source": [
    "#### Split the data into training and test sets"
   ]
  },
  {
   "cell_type": "code",
   "execution_count": 17,
   "metadata": {},
   "outputs": [],
   "source": [
    "#Partition the data into training (60%) and validation (40%) set.\n",
    "train_df, test_df = train_test_split(data, test_size=0.4, random_state=123)"
   ]
  },
  {
   "attachments": {},
   "cell_type": "markdown",
   "metadata": {},
   "source": [
    "### 1.1 Discuss if you can use all the variables to predict at the start of an auction whether it will be competitive."
   ]
  },
  {
   "attachments": {},
   "cell_type": "markdown",
   "metadata": {},
   "source": [
    "To determine whether we can use all the given variables to predict whether an auction will be competitive at the start, we need to consider the relevance and relationship of each variable to the target variable (i.e., \"Competitive?\").\n",
    "\n",
    "- Category: The type of product being sold could potentially have an impact on competitiveness, as some categories may attract more bidders than others.\n",
    "\n",
    "- Currency: The currency used to price the item may impact the competitiveness, as different currencies can affect the price and thus bidding behavior.\n",
    "\n",
    "- SellerRating: The rating of the seller could have an impact on the number of bidders and the competitiveness of the auction, as buyers may be more likely to bid on items from more reputable sellers.\n",
    "\n",
    "- Duration: The length of the auction could impact competitiveness, as longer auctions may attract more bidders and lead to more competition.\n",
    "\n",
    "- EndDay: The day of the week on which the auction ends could also impact competitiveness, as some days may attract more bidders than others.\n",
    "\n",
    "- ClosePrice: The final price of the auction will directly reflect the level of competitiveness. However, it is not a variable that can be used to predict competitiveness at the start of the auction.\n",
    "\n",
    "- OpenPrice: The starting price of the auction could have an impact on competitiveness, as a low starting price could attract more bidders and lead to more competition."
   ]
  },
  {
   "cell_type": "code",
   "execution_count": 42,
   "metadata": {},
   "outputs": [
    {
     "name": "stdout",
     "output_type": "stream",
     "text": [
      "=============================\n",
      "Selected variables by Boruta:  Index(['sellerRating', 'ClosePrice', 'OpenPrice'], dtype='object')\n",
      "==============================\n",
      "Selected variables by forward step selection:  ['Category', 'sellerRating', 'ClosePrice', 'OpenPrice']\n",
      "==============================\n",
      "Selected variables by lasso regression:  ['Category', 'ClosePrice', 'OpenPrice']\n",
      "=============================\n",
      "Selected regularization parameter by LassoCV:  0.0030904479605003638\n",
      "Selected variables by RFECV:  ['ClosePrice', 'OpenPrice']\n",
      "==============================\n",
      "Selected variables by forward step selection with lassoCV reg params:  ['ClosePrice', 'OpenPrice']\n"
     ]
    }
   ],
   "source": [
    "from boruta import BorutaPy\n",
    "from sklearn.linear_model import LinearRegression\n",
    "from mlxtend.feature_selection import SequentialFeatureSelector\n",
    "from sklearn.linear_model import Ridge, Lasso\n",
    "from sklearn.preprocessing import LabelEncoder, StandardScaler\n",
    "from sklearn.ensemble import RandomForestClassifier\n",
    "from sklearn.linear_model import LassoCV\n",
    "from sklearn.feature_selection import RFECV\n",
    "from sklearn.model_selection import KFold\n",
    "\n",
    "# Encode the categorical variables using label encoding\n",
    "le = LabelEncoder()\n",
    "\n",
    "data['Category'] = le.fit_transform(data['Category'])\n",
    "data['currency'] = le.fit_transform(data['currency'])\n",
    "data['endDay'] = le.fit_transform(data['endDay'])\n",
    "train_df, test_df = train_test_split(data, test_size=0.4, random_state=123)\n",
    "\n",
    "\n",
    "# Separate the predictor variables and the target variable\n",
    "X_train = train_df.drop('Competitive?', axis=1)\n",
    "y_train = train_df['Competitive?']\n",
    "X_test = test_df.drop('Competitive?', axis=1)\n",
    "y_test = test_df['Competitive?']\n",
    "\n",
    "# Standardize the numerical variables using z-score normalization\n",
    "scaler = StandardScaler()\n",
    "num_cols = ['sellerRating', 'Duration', 'ClosePrice', 'OpenPrice']\n",
    "X_train[num_cols] = scaler.fit_transform(X_train[num_cols])\n",
    "X_test[num_cols] = scaler.transform(X_test[num_cols])\n",
    "\n",
    "# Use Boruta to select the relevant variables\n",
    "rf = RandomForestClassifier(n_estimators=100, random_state=42)\n",
    "boruta = BorutaPy(rf, n_estimators='auto', verbose=0, random_state=42)\n",
    "boruta.fit(X_train.values, y_train.values)\n",
    "\n",
    "# Print the selected variables\n",
    "selected_vars = X_train.columns[boruta.support_]\n",
    "print(\"=============================\\nSelected variables by Boruta: \", selected_vars)\n",
    "\n",
    "# Use forward step selection to select the relevant variables\n",
    "lr = LinearRegression()\n",
    "sfs = SequentialFeatureSelector(lr, k_features=4, forward=True, scoring='r2', cv=5)\n",
    "sfs.fit(X_train, y_train)\n",
    "\n",
    "# Print the selected variables\n",
    "selected_vars = list(sfs.k_feature_names_)\n",
    "print(\"==============================\\nSelected variables by forward step selection: \", selected_vars)\n",
    "\n",
    "# Use lasso regression to select the relevant variables\n",
    "lasso = Lasso(alpha=0.05)\n",
    "lasso.fit(X_train, y_train)\n",
    "\n",
    "# Print the selected variables\n",
    "selected_vars = list(X_train.columns[lasso.coef_ != 0])\n",
    "print(\"==============================\\nSelected variables by lasso regression: \", selected_vars)\n",
    "\n",
    "\n",
    "# Use LassoCV to perform hyperparameter tuning\n",
    "lasso_cv = LassoCV(cv=KFold(n_splits=5))\n",
    "lasso_cv.fit(X_train, y_train)\n",
    "\n",
    "# Print the selected regularization parameter\n",
    "print(\"=============================\\nSelected regularization parameter by LassoCV: \", lasso_cv.alpha_)\n",
    "\n",
    "# Use RFECV to perform variable selection\n",
    "estimator = Lasso(alpha=lasso_cv.alpha_)\n",
    "rfe_cv = RFECV(estimator, cv=KFold(n_splits=5))\n",
    "rfe_cv.fit(X_train, y_train)\n",
    "\n",
    "# Print the selected variables\n",
    "selected_vars = list(X_train.columns[rfe_cv.support_])\n",
    "print(\"Selected variables by RFECV: \", selected_vars)\n",
    "\n",
    "# Use forward step selection to perform variable selection\n",
    "estimator = Lasso(alpha=lasso_cv.alpha_)\n",
    "fss_cv = RFECV(estimator, step=1, cv=KFold(n_splits=5))\n",
    "fss_cv.fit(X_train, y_train)\n",
    "\n",
    "# Print the selected variables\n",
    "selected_vars = list(X_train.columns[fss_cv.support_])\n",
    "print(\"==============================\\nSelected variables by forward step selection with lassoCV reg params: \", selected_vars)\n"
   ]
  },
  {
   "attachments": {},
   "cell_type": "markdown",
   "metadata": {},
   "source": [
    "### 1.2 Build a classification tree, a boosted tree, a bagged tree, and a random forest model (with mtry = 4). Choose the tuning parameters for these models by optimizing the performance on the validation set. Report accuracies of these four models as well as their confusion matrices on the validation set."
   ]
  },
  {
   "cell_type": "code",
   "execution_count": 18,
   "metadata": {},
   "outputs": [
    {
     "ename": "ValueError",
     "evalue": "\nAll the 90 fits failed.\nIt is very likely that your model is misconfigured.\nYou can try to debug the error by setting error_score='raise'.\n\nBelow are more details about the failures:\n--------------------------------------------------------------------------------\n18 fits failed with the following error:\nTraceback (most recent call last):\n  File \"/Users/amankrishna/opt/anaconda3/lib/python3.9/site-packages/sklearn/model_selection/_validation.py\", line 686, in _fit_and_score\n    estimator.fit(X_train, y_train, **fit_params)\n  File \"/Users/amankrishna/opt/anaconda3/lib/python3.9/site-packages/sklearn/tree/_classes.py\", line 969, in fit\n    super().fit(\n  File \"/Users/amankrishna/opt/anaconda3/lib/python3.9/site-packages/sklearn/tree/_classes.py\", line 172, in fit\n    X, y = self._validate_data(\n  File \"/Users/amankrishna/opt/anaconda3/lib/python3.9/site-packages/sklearn/base.py\", line 591, in _validate_data\n    X = check_array(X, input_name=\"X\", **check_X_params)\n  File \"/Users/amankrishna/opt/anaconda3/lib/python3.9/site-packages/sklearn/utils/validation.py\", line 856, in check_array\n    array = np.asarray(array, order=order, dtype=dtype)\n  File \"/Users/amankrishna/opt/anaconda3/lib/python3.9/site-packages/pandas/core/generic.py\", line 2064, in __array__\n    return np.asarray(self._values, dtype=dtype)\nValueError: could not convert string to float: 'Music/Movie/Game'\n\n--------------------------------------------------------------------------------\n72 fits failed with the following error:\nTraceback (most recent call last):\n  File \"/Users/amankrishna/opt/anaconda3/lib/python3.9/site-packages/sklearn/model_selection/_validation.py\", line 686, in _fit_and_score\n    estimator.fit(X_train, y_train, **fit_params)\n  File \"/Users/amankrishna/opt/anaconda3/lib/python3.9/site-packages/sklearn/tree/_classes.py\", line 969, in fit\n    super().fit(\n  File \"/Users/amankrishna/opt/anaconda3/lib/python3.9/site-packages/sklearn/tree/_classes.py\", line 172, in fit\n    X, y = self._validate_data(\n  File \"/Users/amankrishna/opt/anaconda3/lib/python3.9/site-packages/sklearn/base.py\", line 591, in _validate_data\n    X = check_array(X, input_name=\"X\", **check_X_params)\n  File \"/Users/amankrishna/opt/anaconda3/lib/python3.9/site-packages/sklearn/utils/validation.py\", line 856, in check_array\n    array = np.asarray(array, order=order, dtype=dtype)\n  File \"/Users/amankrishna/opt/anaconda3/lib/python3.9/site-packages/pandas/core/generic.py\", line 2064, in __array__\n    return np.asarray(self._values, dtype=dtype)\nValueError: could not convert string to float: 'Coins/Stamps'\n",
     "output_type": "error",
     "traceback": [
      "\u001b[0;31m---------------------------------------------------------------------------\u001b[0m",
      "\u001b[0;31mValueError\u001b[0m                                Traceback (most recent call last)",
      "\u001b[1;32m/Users/amankrishna/Git/busn-41204-machine-learning/midterm/midterm_aman.ipynb Cell 11\u001b[0m in \u001b[0;36m<cell line: 18>\u001b[0;34m()\u001b[0m\n\u001b[1;32m     <a href='vscode-notebook-cell:/Users/amankrishna/Git/busn-41204-machine-learning/midterm/midterm_aman.ipynb#X16sZmlsZQ%3D%3D?line=15'>16</a>\u001b[0m dtc \u001b[39m=\u001b[39m DecisionTreeClassifier(random_state\u001b[39m=\u001b[39m\u001b[39m42\u001b[39m)\n\u001b[1;32m     <a href='vscode-notebook-cell:/Users/amankrishna/Git/busn-41204-machine-learning/midterm/midterm_aman.ipynb#X16sZmlsZQ%3D%3D?line=16'>17</a>\u001b[0m grid_search \u001b[39m=\u001b[39m GridSearchCV(dtc, param_grid\u001b[39m=\u001b[39mparam_grid, cv\u001b[39m=\u001b[39m\u001b[39m5\u001b[39m)\n\u001b[0;32m---> <a href='vscode-notebook-cell:/Users/amankrishna/Git/busn-41204-machine-learning/midterm/midterm_aman.ipynb#X16sZmlsZQ%3D%3D?line=17'>18</a>\u001b[0m grid_search\u001b[39m.\u001b[39;49mfit(X_train, y_train)\n\u001b[1;32m     <a href='vscode-notebook-cell:/Users/amankrishna/Git/busn-41204-machine-learning/midterm/midterm_aman.ipynb#X16sZmlsZQ%3D%3D?line=19'>20</a>\u001b[0m \u001b[39m# Print the best hyperparameters and their corresponding accuracy score\u001b[39;00m\n\u001b[1;32m     <a href='vscode-notebook-cell:/Users/amankrishna/Git/busn-41204-machine-learning/midterm/midterm_aman.ipynb#X16sZmlsZQ%3D%3D?line=20'>21</a>\u001b[0m \u001b[39mprint\u001b[39m(\u001b[39m\"\u001b[39m\u001b[39mBest hyperparameters: \u001b[39m\u001b[39m\"\u001b[39m, grid_search\u001b[39m.\u001b[39mbest_params_)\n",
      "File \u001b[0;32m~/opt/anaconda3/lib/python3.9/site-packages/sklearn/model_selection/_search.py:875\u001b[0m, in \u001b[0;36mBaseSearchCV.fit\u001b[0;34m(self, X, y, groups, **fit_params)\u001b[0m\n\u001b[1;32m    869\u001b[0m     results \u001b[39m=\u001b[39m \u001b[39mself\u001b[39m\u001b[39m.\u001b[39m_format_results(\n\u001b[1;32m    870\u001b[0m         all_candidate_params, n_splits, all_out, all_more_results\n\u001b[1;32m    871\u001b[0m     )\n\u001b[1;32m    873\u001b[0m     \u001b[39mreturn\u001b[39;00m results\n\u001b[0;32m--> 875\u001b[0m \u001b[39mself\u001b[39;49m\u001b[39m.\u001b[39;49m_run_search(evaluate_candidates)\n\u001b[1;32m    877\u001b[0m \u001b[39m# multimetric is determined here because in the case of a callable\u001b[39;00m\n\u001b[1;32m    878\u001b[0m \u001b[39m# self.scoring the return type is only known after calling\u001b[39;00m\n\u001b[1;32m    879\u001b[0m first_test_score \u001b[39m=\u001b[39m all_out[\u001b[39m0\u001b[39m][\u001b[39m\"\u001b[39m\u001b[39mtest_scores\u001b[39m\u001b[39m\"\u001b[39m]\n",
      "File \u001b[0;32m~/opt/anaconda3/lib/python3.9/site-packages/sklearn/model_selection/_search.py:1375\u001b[0m, in \u001b[0;36mGridSearchCV._run_search\u001b[0;34m(self, evaluate_candidates)\u001b[0m\n\u001b[1;32m   1373\u001b[0m \u001b[39mdef\u001b[39;00m \u001b[39m_run_search\u001b[39m(\u001b[39mself\u001b[39m, evaluate_candidates):\n\u001b[1;32m   1374\u001b[0m     \u001b[39m\"\"\"Search all candidates in param_grid\"\"\"\u001b[39;00m\n\u001b[0;32m-> 1375\u001b[0m     evaluate_candidates(ParameterGrid(\u001b[39mself\u001b[39;49m\u001b[39m.\u001b[39;49mparam_grid))\n",
      "File \u001b[0;32m~/opt/anaconda3/lib/python3.9/site-packages/sklearn/model_selection/_search.py:852\u001b[0m, in \u001b[0;36mBaseSearchCV.fit.<locals>.evaluate_candidates\u001b[0;34m(candidate_params, cv, more_results)\u001b[0m\n\u001b[1;32m    845\u001b[0m \u001b[39melif\u001b[39;00m \u001b[39mlen\u001b[39m(out) \u001b[39m!=\u001b[39m n_candidates \u001b[39m*\u001b[39m n_splits:\n\u001b[1;32m    846\u001b[0m     \u001b[39mraise\u001b[39;00m \u001b[39mValueError\u001b[39;00m(\n\u001b[1;32m    847\u001b[0m         \u001b[39m\"\u001b[39m\u001b[39mcv.split and cv.get_n_splits returned \u001b[39m\u001b[39m\"\u001b[39m\n\u001b[1;32m    848\u001b[0m         \u001b[39m\"\u001b[39m\u001b[39minconsistent results. Expected \u001b[39m\u001b[39m{}\u001b[39;00m\u001b[39m \u001b[39m\u001b[39m\"\u001b[39m\n\u001b[1;32m    849\u001b[0m         \u001b[39m\"\u001b[39m\u001b[39msplits, got \u001b[39m\u001b[39m{}\u001b[39;00m\u001b[39m\"\u001b[39m\u001b[39m.\u001b[39mformat(n_splits, \u001b[39mlen\u001b[39m(out) \u001b[39m/\u001b[39m\u001b[39m/\u001b[39m n_candidates)\n\u001b[1;32m    850\u001b[0m     )\n\u001b[0;32m--> 852\u001b[0m _warn_or_raise_about_fit_failures(out, \u001b[39mself\u001b[39;49m\u001b[39m.\u001b[39;49merror_score)\n\u001b[1;32m    854\u001b[0m \u001b[39m# For callable self.scoring, the return type is only know after\u001b[39;00m\n\u001b[1;32m    855\u001b[0m \u001b[39m# calling. If the return type is a dictionary, the error scores\u001b[39;00m\n\u001b[1;32m    856\u001b[0m \u001b[39m# can now be inserted with the correct key. The type checking\u001b[39;00m\n\u001b[1;32m    857\u001b[0m \u001b[39m# of out will be done in `_insert_error_scores`.\u001b[39;00m\n\u001b[1;32m    858\u001b[0m \u001b[39mif\u001b[39;00m callable(\u001b[39mself\u001b[39m\u001b[39m.\u001b[39mscoring):\n",
      "File \u001b[0;32m~/opt/anaconda3/lib/python3.9/site-packages/sklearn/model_selection/_validation.py:367\u001b[0m, in \u001b[0;36m_warn_or_raise_about_fit_failures\u001b[0;34m(results, error_score)\u001b[0m\n\u001b[1;32m    360\u001b[0m \u001b[39mif\u001b[39;00m num_failed_fits \u001b[39m==\u001b[39m num_fits:\n\u001b[1;32m    361\u001b[0m     all_fits_failed_message \u001b[39m=\u001b[39m (\n\u001b[1;32m    362\u001b[0m         \u001b[39mf\u001b[39m\u001b[39m\"\u001b[39m\u001b[39m\\n\u001b[39;00m\u001b[39mAll the \u001b[39m\u001b[39m{\u001b[39;00mnum_fits\u001b[39m}\u001b[39;00m\u001b[39m fits failed.\u001b[39m\u001b[39m\\n\u001b[39;00m\u001b[39m\"\u001b[39m\n\u001b[1;32m    363\u001b[0m         \u001b[39m\"\u001b[39m\u001b[39mIt is very likely that your model is misconfigured.\u001b[39m\u001b[39m\\n\u001b[39;00m\u001b[39m\"\u001b[39m\n\u001b[1;32m    364\u001b[0m         \u001b[39m\"\u001b[39m\u001b[39mYou can try to debug the error by setting error_score=\u001b[39m\u001b[39m'\u001b[39m\u001b[39mraise\u001b[39m\u001b[39m'\u001b[39m\u001b[39m.\u001b[39m\u001b[39m\\n\u001b[39;00m\u001b[39m\\n\u001b[39;00m\u001b[39m\"\u001b[39m\n\u001b[1;32m    365\u001b[0m         \u001b[39mf\u001b[39m\u001b[39m\"\u001b[39m\u001b[39mBelow are more details about the failures:\u001b[39m\u001b[39m\\n\u001b[39;00m\u001b[39m{\u001b[39;00mfit_errors_summary\u001b[39m}\u001b[39;00m\u001b[39m\"\u001b[39m\n\u001b[1;32m    366\u001b[0m     )\n\u001b[0;32m--> 367\u001b[0m     \u001b[39mraise\u001b[39;00m \u001b[39mValueError\u001b[39;00m(all_fits_failed_message)\n\u001b[1;32m    369\u001b[0m \u001b[39melse\u001b[39;00m:\n\u001b[1;32m    370\u001b[0m     some_fits_failed_message \u001b[39m=\u001b[39m (\n\u001b[1;32m    371\u001b[0m         \u001b[39mf\u001b[39m\u001b[39m\"\u001b[39m\u001b[39m\\n\u001b[39;00m\u001b[39m{\u001b[39;00mnum_failed_fits\u001b[39m}\u001b[39;00m\u001b[39m fits failed out of a total of \u001b[39m\u001b[39m{\u001b[39;00mnum_fits\u001b[39m}\u001b[39;00m\u001b[39m.\u001b[39m\u001b[39m\\n\u001b[39;00m\u001b[39m\"\u001b[39m\n\u001b[1;32m    372\u001b[0m         \u001b[39m\"\u001b[39m\u001b[39mThe score on these train-test partitions for these parameters\u001b[39m\u001b[39m\"\u001b[39m\n\u001b[0;32m   (...)\u001b[0m\n\u001b[1;32m    376\u001b[0m         \u001b[39mf\u001b[39m\u001b[39m\"\u001b[39m\u001b[39mBelow are more details about the failures:\u001b[39m\u001b[39m\\n\u001b[39;00m\u001b[39m{\u001b[39;00mfit_errors_summary\u001b[39m}\u001b[39;00m\u001b[39m\"\u001b[39m\n\u001b[1;32m    377\u001b[0m     )\n",
      "\u001b[0;31mValueError\u001b[0m: \nAll the 90 fits failed.\nIt is very likely that your model is misconfigured.\nYou can try to debug the error by setting error_score='raise'.\n\nBelow are more details about the failures:\n--------------------------------------------------------------------------------\n18 fits failed with the following error:\nTraceback (most recent call last):\n  File \"/Users/amankrishna/opt/anaconda3/lib/python3.9/site-packages/sklearn/model_selection/_validation.py\", line 686, in _fit_and_score\n    estimator.fit(X_train, y_train, **fit_params)\n  File \"/Users/amankrishna/opt/anaconda3/lib/python3.9/site-packages/sklearn/tree/_classes.py\", line 969, in fit\n    super().fit(\n  File \"/Users/amankrishna/opt/anaconda3/lib/python3.9/site-packages/sklearn/tree/_classes.py\", line 172, in fit\n    X, y = self._validate_data(\n  File \"/Users/amankrishna/opt/anaconda3/lib/python3.9/site-packages/sklearn/base.py\", line 591, in _validate_data\n    X = check_array(X, input_name=\"X\", **check_X_params)\n  File \"/Users/amankrishna/opt/anaconda3/lib/python3.9/site-packages/sklearn/utils/validation.py\", line 856, in check_array\n    array = np.asarray(array, order=order, dtype=dtype)\n  File \"/Users/amankrishna/opt/anaconda3/lib/python3.9/site-packages/pandas/core/generic.py\", line 2064, in __array__\n    return np.asarray(self._values, dtype=dtype)\nValueError: could not convert string to float: 'Music/Movie/Game'\n\n--------------------------------------------------------------------------------\n72 fits failed with the following error:\nTraceback (most recent call last):\n  File \"/Users/amankrishna/opt/anaconda3/lib/python3.9/site-packages/sklearn/model_selection/_validation.py\", line 686, in _fit_and_score\n    estimator.fit(X_train, y_train, **fit_params)\n  File \"/Users/amankrishna/opt/anaconda3/lib/python3.9/site-packages/sklearn/tree/_classes.py\", line 969, in fit\n    super().fit(\n  File \"/Users/amankrishna/opt/anaconda3/lib/python3.9/site-packages/sklearn/tree/_classes.py\", line 172, in fit\n    X, y = self._validate_data(\n  File \"/Users/amankrishna/opt/anaconda3/lib/python3.9/site-packages/sklearn/base.py\", line 591, in _validate_data\n    X = check_array(X, input_name=\"X\", **check_X_params)\n  File \"/Users/amankrishna/opt/anaconda3/lib/python3.9/site-packages/sklearn/utils/validation.py\", line 856, in check_array\n    array = np.asarray(array, order=order, dtype=dtype)\n  File \"/Users/amankrishna/opt/anaconda3/lib/python3.9/site-packages/pandas/core/generic.py\", line 2064, in __array__\n    return np.asarray(self._values, dtype=dtype)\nValueError: could not convert string to float: 'Coins/Stamps'\n"
     ]
    }
   ],
   "source": [
    "from sklearn.tree import DecisionTreeClassifier\n",
    "from sklearn.model_selection import GridSearchCV\n",
    "from sklearn.metrics import accuracy_score, confusion_matrix\n",
    "\n",
    "# Split the training set into train and validation sets\n",
    "X_train, X_val, y_train, y_val = train_test_split(train_df.drop('Competitive?', axis=1), train_df['Competitive?'], test_size=0.2, random_state=42)\n",
    "\n",
    "# Define the parameter grid for the decision tree classifier\n",
    "param_grid = {\n",
    "    'max_depth': [3, 5, 7],\n",
    "    'min_samples_leaf': [5, 10, 15],\n",
    "    'criterion': ['gini', 'entropy']\n",
    "}\n",
    "\n",
    "# Train the decision tree classifier using grid search cross-validation to find the best hyperparameters\n",
    "dtc = DecisionTreeClassifier(random_state=42)\n",
    "grid_search = GridSearchCV(dtc, param_grid=param_grid, cv=5)\n",
    "grid_search.fit(X_train, y_train)\n",
    "\n",
    "# Print the best hyperparameters and their corresponding accuracy score\n",
    "print(\"Best hyperparameters: \", grid_search.best_params_)\n",
    "print(\"Validation accuracy: \", grid_search.best_score_)\n",
    "\n",
    "# Use the best model to make predictions on the validation set\n",
    "y_pred = grid_search.predict(X_val)\n",
    "\n",
    "# Print the accuracy score and confusion matrix of the best model on the validation set\n",
    "print(\"Validation accuracy: \", accuracy_score(y_val, y_pred))\n",
    "print(\"Confusion matrix:\\n\", confusion_matrix(y_val, y_pred))\n",
    "\n",
    "# Use the best model to make predictions on the test set\n",
    "X_test = test_df.drop('Competitive?', axis=1)\n",
    "y_test = test_df['Competitive?']\n",
    "y_pred_test = grid_search.predict(X_test)\n",
    "\n",
    "# Print the accuracy score and confusion matrix of the best model on the test set\n",
    "print(\"Test accuracy: \", accuracy_score(y_test, y_pred_test))\n",
    "print(\"Confusion matrix:\\n\", confusion_matrix(y_test, y_pred_test))\n"
   ]
  }
 ],
 "metadata": {
  "kernelspec": {
   "display_name": "base",
   "language": "python",
   "name": "python3"
  },
  "language_info": {
   "codemirror_mode": {
    "name": "ipython",
    "version": 3
   },
   "file_extension": ".py",
   "mimetype": "text/x-python",
   "name": "python",
   "nbconvert_exporter": "python",
   "pygments_lexer": "ipython3",
   "version": "3.9.13"
  },
  "orig_nbformat": 4,
  "vscode": {
   "interpreter": {
    "hash": "3aebcf67cc29b314be79f51fd8d1736517ecad5ca0a5890edf173d6fd802b996"
   }
  }
 },
 "nbformat": 4,
 "nbformat_minor": 2
}

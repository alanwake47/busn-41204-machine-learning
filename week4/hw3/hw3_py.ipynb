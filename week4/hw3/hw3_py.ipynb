{
 "cells": [
  {
   "attachments": {},
   "cell_type": "markdown",
   "id": "1151a271",
   "metadata": {},
   "source": [
    "\n",
    "### title: \"Homework 3\"\n",
    "#### subtitle: \"\"\n",
    "#### author: \"\"\n",
    "#### date: \"\""
   ]
  },
  {
   "cell_type": "markdown",
   "id": "1dd8d3f1",
   "metadata": {},
   "source": [
    "**Due:** end of day Saturday, February 4\n",
    "\n",
    "**Submission instructions:** Submit one write-up per group on [gradescope.com](gradescope.com). \n",
    "\n",
    "**IMPORTANT:** \n",
    "\n",
    "- Write names of everyone that worked on the assignment on the submission.\n",
    "- Specify every member of the group when submitting on Gradescope    \n",
    "  (https://help.gradescope.com/article/m5qz2xsnjy-student-add-group-members)"
   ]
  },
  {
   "cell_type": "markdown",
   "id": "d68faa1b",
   "metadata": {},
   "source": [
    "For this homework, we will be using the case _Retention Modeling at Scholastic Travel Company_. Read:\n",
    "\n",
    "- Case: Retention Modeling at Scholastic Travel Company (A);\n",
    "- Supplement: Retention Modeling at Scholastic Travel Company (B);\n",
    "\n",
    "which are available on Canvas."
   ]
  },
  {
   "cell_type": "markdown",
   "id": "0e025a06",
   "metadata": {},
   "source": [
    "Your goal is to help David build a model for retention. \n",
    "\n",
    "The following code will get you started.\n",
    "\n",
    "# Load relevant libraries "
   ]
  },
  {
   "cell_type": "code",
   "execution_count": 736,
   "id": "3f414a4e",
   "metadata": {
    "lines_to_next_cell": 2,
    "message": false
   },
   "outputs": [],
   "source": [
    "# First we import the necessary libraries\n",
    "import os\n",
    "import pandas as pd\n",
    "pd.set_option(\"display.precision\", 4)\n",
    "import numpy as np\n",
    "from datetime import datetime\n",
    "from datetime import timedelta\n",
    "from matplotlib import pyplot as plt\n",
    "from sklearn.model_selection import GridSearchCV\n",
    "import functools\n",
    "from scipy import stats\n",
    "import seaborn as sn\n",
    "from sklearn.model_selection import LeavePOut\n",
    "from sklearn.neighbors import KNeighborsClassifier\n",
    "from sklearn.model_selection import LeaveOneOut, cross_val_score\n",
    "from sklearn.model_selection import train_test_split\n",
    "from statsmodels.formula.api import ols\n",
    "import scipy as sp\n",
    "import plotnine as p9\n",
    "from sklearn.tree import DecisionTreeClassifier\n",
    "import warnings\n",
    "warnings.filterwarnings(\"ignore\")\n",
    "import random \n",
    "import math\n",
    "from sklearn.metrics import mean_squared_error\n",
    "from sklearn.neighbors import KNeighborsRegressor\n",
    "import statsmodels.api as sm\n",
    "pd.options.display.float_format = '{:.4f}'.format\n",
    "pd.options.mode.chained_assignment = None  # default='warn'\n",
    "from IPython.display import Markdown, display\n",
    "def printmd(string):\n",
    "    display(Markdown(string))"
   ]
  },
  {
   "cell_type": "markdown",
   "id": "eaa0c036",
   "metadata": {},
   "source": [
    "# Load the data\n",
    "\n",
    "Here we will load the data from the CSV data file, \n",
    "examine its structure, and fix the data types \n",
    "incorrectly identified by R when importing from CSV."
   ]
  },
  {
   "cell_type": "code",
   "execution_count": 737,
   "id": "13f33561",
   "metadata": {},
   "outputs": [],
   "source": [
    "STCdata_A = pd.read_csv('travelData.csv')\n",
    "STCdata_A.set_index('ID', inplace=True)"
   ]
  },
  {
   "cell_type": "markdown",
   "id": "65d5ae95",
   "metadata": {},
   "source": [
    "You can use the function `str` to quickly check the internal structure of an R object.\n",
    "Here we are using it to investigate type of data in each column of the loaded data."
   ]
  },
  {
   "cell_type": "code",
   "execution_count": 738,
   "id": "1abfbb0b",
   "metadata": {},
   "outputs": [
    {
     "data": {
      "text/plain": [
       "Program.Code                       object\n",
       "From.Grade                        float64\n",
       "To.Grade                          float64\n",
       "Group.State                        object\n",
       "Is.Non.Annual.                      int64\n",
       "Days                                int64\n",
       "Travel.Type                        object\n",
       "Departure.Date                     object\n",
       "Return.Date                        object\n",
       "Deposit.Date                       object\n",
       "Special.Pay                        object\n",
       "Tuition                             int64\n",
       "FRP.Active                          int64\n",
       "FRP.Cancelled                       int64\n",
       "FRP.Take.up.percent.              float64\n",
       "Early.RPL                          object\n",
       "Latest.RPL                         object\n",
       "Cancelled.Pax                       int64\n",
       "Total.Discount.Pax                  int64\n",
       "Initial.System.Date                object\n",
       "Poverty.Code                       object\n",
       "Region                             object\n",
       "CRM.Segment                       float64\n",
       "School.Type                        object\n",
       "Parent.Meeting.Flag                 int64\n",
       "MDR.Low.Grade                      object\n",
       "MDR.High.Grade                    float64\n",
       "Total.School.Enrollment           float64\n",
       "Income.Level                       object\n",
       "EZ.Pay.Take.Up.Rate               float64\n",
       "School.Sponsor                      int64\n",
       "SPR.Product.Type                   object\n",
       "SPR.New.Existing                   object\n",
       "FPP                                 int64\n",
       "Total.Pax                           int64\n",
       "SPR.Group.Revenue                   int64\n",
       "NumberOfMeetingswithParents         int64\n",
       "FirstMeeting                       object\n",
       "LastMeeting                        object\n",
       "DifferenceTraveltoFirstMeeting    float64\n",
       "DifferenceTraveltoLastMeeting     float64\n",
       "SchoolGradeTypeLow                 object\n",
       "SchoolGradeTypeHigh                object\n",
       "SchoolGradeType                    object\n",
       "DepartureMonth                     object\n",
       "GroupGradeTypeLow                  object\n",
       "GroupGradeTypeHigh                 object\n",
       "GroupGradeType                     object\n",
       "MajorProgramCode                   object\n",
       "SingleGradeTripFlag                 int64\n",
       "FPP.to.School.enrollment          float64\n",
       "FPP.to.PAX                        float64\n",
       "Num.of.Non_FPP.PAX                  int64\n",
       "SchoolSizeIndicator                object\n",
       "Retained.in.2012.                   int64\n",
       "dtype: object"
      ]
     },
     "execution_count": 738,
     "metadata": {},
     "output_type": "execute_result"
    }
   ],
   "source": [
    "STCdata_A.dtypes"
   ]
  },
  {
   "cell_type": "markdown",
   "id": "7f565e12",
   "metadata": {
    "lines_to_next_cell": 0
   },
   "source": [
    "Notice that some columns are identified as numerical or integer, but really the should be factors.\n",
    "\n",
    "For instance, we have that column `From.Grade`"
   ]
  },
  {
   "cell_type": "code",
   "execution_count": 739,
   "id": "6be6b003",
   "metadata": {
    "lines_to_next_cell": 0
   },
   "outputs": [
    {
     "data": {
      "text/markdown": [
       "The number of unique data in From.Grade is **11**"
      ],
      "text/plain": [
       "<IPython.core.display.Markdown object>"
      ]
     },
     "metadata": {},
     "output_type": "display_data"
    }
   ],
   "source": [
    "printmd(f'The number of unique data in From.Grade is **{len(STCdata_A[\"From.Grade\"].unique())}**')"
   ]
  },
  {
   "cell_type": "markdown",
   "id": "f04fadb8",
   "metadata": {
    "lines_to_next_cell": 0
   },
   "source": [
    "only has 11 levels. It might be a better idea to treat it as a factor instead.\n",
    "\n",
    "You can fix incorrectly classified data types as follows:"
   ]
  },
  {
   "cell_type": "code",
   "execution_count": 740,
   "id": "7894ab83",
   "metadata": {},
   "outputs": [],
   "source": [
    "#convert the numerical column From.Grade to factor or categorical type\n",
    "STCdata_A[\"From.Grade\"] = STCdata_A[\"From.Grade\"].astype('category')"
   ]
  },
  {
   "cell_type": "markdown",
   "id": "5f961e22",
   "metadata": {
    "lines_to_next_cell": 0
   },
   "source": [
    "We can check that indeed the column represents a factor:"
   ]
  },
  {
   "cell_type": "code",
   "execution_count": 741,
   "id": "490cb94e",
   "metadata": {},
   "outputs": [
    {
     "data": {
      "text/plain": [
       "From.Grade    category\n",
       "dtype: object"
      ]
     },
     "execution_count": 741,
     "metadata": {},
     "output_type": "execute_result"
    }
   ],
   "source": [
    "#check the type of From.Grade\n",
    "STCdata_A.dtypes[1:2]"
   ]
  },
  {
   "cell_type": "markdown",
   "id": "02cf654b",
   "metadata": {
    "lines_to_next_cell": 0
   },
   "source": [
    "Fix other columns that are numeric at the moment, but could be converted to factors.\n",
    "The following line first finds numeric columns and then identifies the number of unique elements in each one."
   ]
  },
  {
   "cell_type": "code",
   "execution_count": 742,
   "id": "a55d7343",
   "metadata": {},
   "outputs": [],
   "source": [
    "numeric_cols = STCdata_A.select_dtypes(include=['int64', 'float64']).columns\n",
    "\n",
    "unique_values = [len(STCdata_A[col].unique()) for col in numeric_cols]\n",
    "\n",
    "cols_to_convert = numeric_cols[np.array(unique_values) <= 15]"
   ]
  },
  {
   "cell_type": "code",
   "execution_count": 743,
   "id": "605d3b41",
   "metadata": {},
   "outputs": [
    {
     "data": {
      "text/plain": [
       "Index(['To.Grade', 'Is.Non.Annual.', 'Days', 'CRM.Segment',\n",
       "       'Parent.Meeting.Flag', 'MDR.High.Grade', 'School.Sponsor',\n",
       "       'NumberOfMeetingswithParents', 'SingleGradeTripFlag',\n",
       "       'Retained.in.2012.'],\n",
       "      dtype='object')"
      ]
     },
     "execution_count": 743,
     "metadata": {},
     "output_type": "execute_result"
    }
   ],
   "source": [
    "cols_to_convert"
   ]
  },
  {
   "cell_type": "markdown",
   "id": "a3a4240a",
   "metadata": {
    "lines_to_next_cell": 0
   },
   "source": [
    "Let us convert every column that has less than 15 unique values into a factor.\n",
    "The following line identify names of such columns."
   ]
  },
  {
   "cell_type": "code",
   "execution_count": 744,
   "id": "e2481991",
   "metadata": {},
   "outputs": [
    {
     "data": {
      "text/plain": [
       "Index(['To.Grade', 'Is.Non.Annual.', 'Days', 'CRM.Segment',\n",
       "       'Parent.Meeting.Flag', 'MDR.High.Grade', 'School.Sponsor',\n",
       "       'NumberOfMeetingswithParents', 'SingleGradeTripFlag',\n",
       "       'Retained.in.2012.'],\n",
       "      dtype='object')"
      ]
     },
     "execution_count": 744,
     "metadata": {},
     "output_type": "execute_result"
    }
   ],
   "source": [
    "cols_to_convert"
   ]
  },
  {
   "cell_type": "markdown",
   "id": "86eada6d",
   "metadata": {},
   "source": [
    "From this, we can see that the columns \n",
    "`To.Grade`, `Is.Non.Annual.`, `Days`,\n",
    "`CRM.Segment`, `Parent.Meeting.Flag`, `MDR.High.Grade`, \n",
    "`School.Sponsor`, `NumberOfMeetingswithParents`, `SingleGradeTripFlag`\n",
    "can be converted to factors.\n",
    "We can also convert the output `Retained.in.2012.`\n",
    "\n",
    "Convert these columns into factors."
   ]
  },
  {
   "cell_type": "code",
   "execution_count": 745,
   "id": "d09825b7",
   "metadata": {},
   "outputs": [],
   "source": [
    "# Convert columns in cols_to_convert to categorical\n",
    "for col in cols_to_convert:\n",
    "    STCdata_A[col] = STCdata_A[col].astype('category')"
   ]
  },
  {
   "cell_type": "markdown",
   "id": "a4cdf3d8",
   "metadata": {
    "lines_to_next_cell": 0
   },
   "source": [
    "Now let's take care of date columns."
   ]
  },
  {
   "cell_type": "code",
   "execution_count": 746,
   "id": "eb125bfb",
   "metadata": {},
   "outputs": [],
   "source": [
    "date_columns = ['Departure.Date', 'Return.Date', 'Deposit.Date', 'Early.RPL', 'Latest.RPL', 'Initial.System.Date', 'FirstMeeting', 'LastMeeting']\n",
    "# Convert columns in date_columns to datetime\n",
    "for col in date_columns:\n",
    "    STCdata_A[col] = pd.to_datetime(STCdata_A[col])"
   ]
  },
  {
   "cell_type": "markdown",
   "id": "adf96f6e",
   "metadata": {},
   "source": [
    "And finally we change all the character columns to factors as well."
   ]
  },
  {
   "cell_type": "code",
   "execution_count": 747,
   "id": "63567f0b",
   "metadata": {},
   "outputs": [
    {
     "data": {
      "text/plain": [
       "20"
      ]
     },
     "execution_count": 747,
     "metadata": {},
     "output_type": "execute_result"
    }
   ],
   "source": [
    "#find the columns with 'object' type\n",
    "object_cols = STCdata_A.select_dtypes(include=['object']).columns\n",
    "len(object_cols)"
   ]
  },
  {
   "cell_type": "code",
   "execution_count": 748,
   "id": "edcd8a94",
   "metadata": {},
   "outputs": [],
   "source": [
    "STCdata_A = STCdata_A.apply(lambda x: x.astype('category') if x.dtype == 'object' else x)"
   ]
  },
  {
   "cell_type": "markdown",
   "id": "50e39004",
   "metadata": {
    "lines_to_next_cell": 0
   },
   "source": [
    "Let's see what we have:"
   ]
  },
  {
   "cell_type": "code",
   "execution_count": 749,
   "id": "f52182b7",
   "metadata": {},
   "outputs": [
    {
     "data": {
      "text/html": [
       "<div>\n",
       "<style scoped>\n",
       "    .dataframe tbody tr th:only-of-type {\n",
       "        vertical-align: middle;\n",
       "    }\n",
       "\n",
       "    .dataframe tbody tr th {\n",
       "        vertical-align: top;\n",
       "    }\n",
       "\n",
       "    .dataframe thead th {\n",
       "        text-align: right;\n",
       "    }\n",
       "</style>\n",
       "<table border=\"1\" class=\"dataframe\">\n",
       "  <thead>\n",
       "    <tr style=\"text-align: right;\">\n",
       "      <th></th>\n",
       "      <th>0</th>\n",
       "    </tr>\n",
       "  </thead>\n",
       "  <tbody>\n",
       "    <tr>\n",
       "      <th>Program.Code</th>\n",
       "      <td>category</td>\n",
       "    </tr>\n",
       "    <tr>\n",
       "      <th>From.Grade</th>\n",
       "      <td>category</td>\n",
       "    </tr>\n",
       "    <tr>\n",
       "      <th>To.Grade</th>\n",
       "      <td>category</td>\n",
       "    </tr>\n",
       "    <tr>\n",
       "      <th>Group.State</th>\n",
       "      <td>category</td>\n",
       "    </tr>\n",
       "    <tr>\n",
       "      <th>Is.Non.Annual.</th>\n",
       "      <td>category</td>\n",
       "    </tr>\n",
       "    <tr>\n",
       "      <th>Days</th>\n",
       "      <td>category</td>\n",
       "    </tr>\n",
       "    <tr>\n",
       "      <th>Travel.Type</th>\n",
       "      <td>category</td>\n",
       "    </tr>\n",
       "    <tr>\n",
       "      <th>Departure.Date</th>\n",
       "      <td>datetime64[ns]</td>\n",
       "    </tr>\n",
       "    <tr>\n",
       "      <th>Return.Date</th>\n",
       "      <td>datetime64[ns]</td>\n",
       "    </tr>\n",
       "    <tr>\n",
       "      <th>Deposit.Date</th>\n",
       "      <td>datetime64[ns]</td>\n",
       "    </tr>\n",
       "    <tr>\n",
       "      <th>Special.Pay</th>\n",
       "      <td>category</td>\n",
       "    </tr>\n",
       "    <tr>\n",
       "      <th>Tuition</th>\n",
       "      <td>int64</td>\n",
       "    </tr>\n",
       "    <tr>\n",
       "      <th>FRP.Active</th>\n",
       "      <td>int64</td>\n",
       "    </tr>\n",
       "    <tr>\n",
       "      <th>FRP.Cancelled</th>\n",
       "      <td>int64</td>\n",
       "    </tr>\n",
       "    <tr>\n",
       "      <th>FRP.Take.up.percent.</th>\n",
       "      <td>float64</td>\n",
       "    </tr>\n",
       "    <tr>\n",
       "      <th>Early.RPL</th>\n",
       "      <td>datetime64[ns]</td>\n",
       "    </tr>\n",
       "    <tr>\n",
       "      <th>Latest.RPL</th>\n",
       "      <td>datetime64[ns]</td>\n",
       "    </tr>\n",
       "    <tr>\n",
       "      <th>Cancelled.Pax</th>\n",
       "      <td>int64</td>\n",
       "    </tr>\n",
       "    <tr>\n",
       "      <th>Total.Discount.Pax</th>\n",
       "      <td>int64</td>\n",
       "    </tr>\n",
       "    <tr>\n",
       "      <th>Initial.System.Date</th>\n",
       "      <td>datetime64[ns]</td>\n",
       "    </tr>\n",
       "    <tr>\n",
       "      <th>Poverty.Code</th>\n",
       "      <td>category</td>\n",
       "    </tr>\n",
       "    <tr>\n",
       "      <th>Region</th>\n",
       "      <td>category</td>\n",
       "    </tr>\n",
       "    <tr>\n",
       "      <th>CRM.Segment</th>\n",
       "      <td>category</td>\n",
       "    </tr>\n",
       "    <tr>\n",
       "      <th>School.Type</th>\n",
       "      <td>category</td>\n",
       "    </tr>\n",
       "    <tr>\n",
       "      <th>Parent.Meeting.Flag</th>\n",
       "      <td>category</td>\n",
       "    </tr>\n",
       "    <tr>\n",
       "      <th>MDR.Low.Grade</th>\n",
       "      <td>category</td>\n",
       "    </tr>\n",
       "    <tr>\n",
       "      <th>MDR.High.Grade</th>\n",
       "      <td>category</td>\n",
       "    </tr>\n",
       "    <tr>\n",
       "      <th>Total.School.Enrollment</th>\n",
       "      <td>float64</td>\n",
       "    </tr>\n",
       "    <tr>\n",
       "      <th>Income.Level</th>\n",
       "      <td>category</td>\n",
       "    </tr>\n",
       "    <tr>\n",
       "      <th>EZ.Pay.Take.Up.Rate</th>\n",
       "      <td>float64</td>\n",
       "    </tr>\n",
       "    <tr>\n",
       "      <th>School.Sponsor</th>\n",
       "      <td>category</td>\n",
       "    </tr>\n",
       "    <tr>\n",
       "      <th>SPR.Product.Type</th>\n",
       "      <td>category</td>\n",
       "    </tr>\n",
       "    <tr>\n",
       "      <th>SPR.New.Existing</th>\n",
       "      <td>category</td>\n",
       "    </tr>\n",
       "    <tr>\n",
       "      <th>FPP</th>\n",
       "      <td>int64</td>\n",
       "    </tr>\n",
       "    <tr>\n",
       "      <th>Total.Pax</th>\n",
       "      <td>int64</td>\n",
       "    </tr>\n",
       "    <tr>\n",
       "      <th>SPR.Group.Revenue</th>\n",
       "      <td>int64</td>\n",
       "    </tr>\n",
       "    <tr>\n",
       "      <th>NumberOfMeetingswithParents</th>\n",
       "      <td>category</td>\n",
       "    </tr>\n",
       "    <tr>\n",
       "      <th>FirstMeeting</th>\n",
       "      <td>datetime64[ns]</td>\n",
       "    </tr>\n",
       "    <tr>\n",
       "      <th>LastMeeting</th>\n",
       "      <td>datetime64[ns]</td>\n",
       "    </tr>\n",
       "    <tr>\n",
       "      <th>DifferenceTraveltoFirstMeeting</th>\n",
       "      <td>float64</td>\n",
       "    </tr>\n",
       "    <tr>\n",
       "      <th>DifferenceTraveltoLastMeeting</th>\n",
       "      <td>float64</td>\n",
       "    </tr>\n",
       "    <tr>\n",
       "      <th>SchoolGradeTypeLow</th>\n",
       "      <td>category</td>\n",
       "    </tr>\n",
       "    <tr>\n",
       "      <th>SchoolGradeTypeHigh</th>\n",
       "      <td>category</td>\n",
       "    </tr>\n",
       "    <tr>\n",
       "      <th>SchoolGradeType</th>\n",
       "      <td>category</td>\n",
       "    </tr>\n",
       "    <tr>\n",
       "      <th>DepartureMonth</th>\n",
       "      <td>category</td>\n",
       "    </tr>\n",
       "    <tr>\n",
       "      <th>GroupGradeTypeLow</th>\n",
       "      <td>category</td>\n",
       "    </tr>\n",
       "    <tr>\n",
       "      <th>GroupGradeTypeHigh</th>\n",
       "      <td>category</td>\n",
       "    </tr>\n",
       "    <tr>\n",
       "      <th>GroupGradeType</th>\n",
       "      <td>category</td>\n",
       "    </tr>\n",
       "    <tr>\n",
       "      <th>MajorProgramCode</th>\n",
       "      <td>category</td>\n",
       "    </tr>\n",
       "    <tr>\n",
       "      <th>SingleGradeTripFlag</th>\n",
       "      <td>category</td>\n",
       "    </tr>\n",
       "    <tr>\n",
       "      <th>FPP.to.School.enrollment</th>\n",
       "      <td>float64</td>\n",
       "    </tr>\n",
       "    <tr>\n",
       "      <th>FPP.to.PAX</th>\n",
       "      <td>float64</td>\n",
       "    </tr>\n",
       "    <tr>\n",
       "      <th>Num.of.Non_FPP.PAX</th>\n",
       "      <td>int64</td>\n",
       "    </tr>\n",
       "    <tr>\n",
       "      <th>SchoolSizeIndicator</th>\n",
       "      <td>category</td>\n",
       "    </tr>\n",
       "    <tr>\n",
       "      <th>Retained.in.2012.</th>\n",
       "      <td>category</td>\n",
       "    </tr>\n",
       "  </tbody>\n",
       "</table>\n",
       "</div>"
      ],
      "text/plain": [
       "                                             0\n",
       "Program.Code                          category\n",
       "From.Grade                            category\n",
       "To.Grade                              category\n",
       "Group.State                           category\n",
       "Is.Non.Annual.                        category\n",
       "Days                                  category\n",
       "Travel.Type                           category\n",
       "Departure.Date                  datetime64[ns]\n",
       "Return.Date                     datetime64[ns]\n",
       "Deposit.Date                    datetime64[ns]\n",
       "Special.Pay                           category\n",
       "Tuition                                  int64\n",
       "FRP.Active                               int64\n",
       "FRP.Cancelled                            int64\n",
       "FRP.Take.up.percent.                   float64\n",
       "Early.RPL                       datetime64[ns]\n",
       "Latest.RPL                      datetime64[ns]\n",
       "Cancelled.Pax                            int64\n",
       "Total.Discount.Pax                       int64\n",
       "Initial.System.Date             datetime64[ns]\n",
       "Poverty.Code                          category\n",
       "Region                                category\n",
       "CRM.Segment                           category\n",
       "School.Type                           category\n",
       "Parent.Meeting.Flag                   category\n",
       "MDR.Low.Grade                         category\n",
       "MDR.High.Grade                        category\n",
       "Total.School.Enrollment                float64\n",
       "Income.Level                          category\n",
       "EZ.Pay.Take.Up.Rate                    float64\n",
       "School.Sponsor                        category\n",
       "SPR.Product.Type                      category\n",
       "SPR.New.Existing                      category\n",
       "FPP                                      int64\n",
       "Total.Pax                                int64\n",
       "SPR.Group.Revenue                        int64\n",
       "NumberOfMeetingswithParents           category\n",
       "FirstMeeting                    datetime64[ns]\n",
       "LastMeeting                     datetime64[ns]\n",
       "DifferenceTraveltoFirstMeeting         float64\n",
       "DifferenceTraveltoLastMeeting          float64\n",
       "SchoolGradeTypeLow                    category\n",
       "SchoolGradeTypeHigh                   category\n",
       "SchoolGradeType                       category\n",
       "DepartureMonth                        category\n",
       "GroupGradeTypeLow                     category\n",
       "GroupGradeTypeHigh                    category\n",
       "GroupGradeType                        category\n",
       "MajorProgramCode                      category\n",
       "SingleGradeTripFlag                   category\n",
       "FPP.to.School.enrollment               float64\n",
       "FPP.to.PAX                             float64\n",
       "Num.of.Non_FPP.PAX                       int64\n",
       "SchoolSizeIndicator                   category\n",
       "Retained.in.2012.                     category"
      ]
     },
     "execution_count": 749,
     "metadata": {},
     "output_type": "execute_result"
    }
   ],
   "source": [
    "STCdata_A.dtypes.to_frame()"
   ]
  },
  {
   "cell_type": "markdown",
   "id": "082baaaa",
   "metadata": {},
   "source": [
    "Pretty good!!!\n"
   ]
  },
  {
   "cell_type": "markdown",
   "id": "685bf9b0",
   "metadata": {
    "lines_to_next_cell": 0
   },
   "source": [
    "# Data preprocessing\n",
    "\n",
    "The data contains a number of columns with missing values.\n",
    "Let's investigate. \n",
    "The following tells us the number of missing values in each column."
   ]
  },
  {
   "cell_type": "code",
   "execution_count": 750,
   "id": "d3de5494",
   "metadata": {},
   "outputs": [],
   "source": [
    "STCdata_A.to_clipboard()"
   ]
  },
  {
   "cell_type": "code",
   "execution_count": 751,
   "id": "6c7c006b",
   "metadata": {},
   "outputs": [
    {
     "data": {
      "text/html": [
       "<div>\n",
       "<style scoped>\n",
       "    .dataframe tbody tr th:only-of-type {\n",
       "        vertical-align: middle;\n",
       "    }\n",
       "\n",
       "    .dataframe tbody tr th {\n",
       "        vertical-align: top;\n",
       "    }\n",
       "\n",
       "    .dataframe thead th {\n",
       "        text-align: right;\n",
       "    }\n",
       "</style>\n",
       "<table border=\"1\" class=\"dataframe\">\n",
       "  <thead>\n",
       "    <tr style=\"text-align: right;\">\n",
       "      <th></th>\n",
       "      <th>0</th>\n",
       "    </tr>\n",
       "  </thead>\n",
       "  <tbody>\n",
       "    <tr>\n",
       "      <th>Program.Code</th>\n",
       "      <td>0</td>\n",
       "    </tr>\n",
       "    <tr>\n",
       "      <th>From.Grade</th>\n",
       "      <td>127</td>\n",
       "    </tr>\n",
       "    <tr>\n",
       "      <th>To.Grade</th>\n",
       "      <td>150</td>\n",
       "    </tr>\n",
       "    <tr>\n",
       "      <th>Group.State</th>\n",
       "      <td>0</td>\n",
       "    </tr>\n",
       "    <tr>\n",
       "      <th>Is.Non.Annual.</th>\n",
       "      <td>0</td>\n",
       "    </tr>\n",
       "    <tr>\n",
       "      <th>Days</th>\n",
       "      <td>0</td>\n",
       "    </tr>\n",
       "    <tr>\n",
       "      <th>Travel.Type</th>\n",
       "      <td>0</td>\n",
       "    </tr>\n",
       "    <tr>\n",
       "      <th>Departure.Date</th>\n",
       "      <td>0</td>\n",
       "    </tr>\n",
       "    <tr>\n",
       "      <th>Return.Date</th>\n",
       "      <td>0</td>\n",
       "    </tr>\n",
       "    <tr>\n",
       "      <th>Deposit.Date</th>\n",
       "      <td>0</td>\n",
       "    </tr>\n",
       "    <tr>\n",
       "      <th>Special.Pay</th>\n",
       "      <td>1919</td>\n",
       "    </tr>\n",
       "    <tr>\n",
       "      <th>Tuition</th>\n",
       "      <td>0</td>\n",
       "    </tr>\n",
       "    <tr>\n",
       "      <th>FRP.Active</th>\n",
       "      <td>0</td>\n",
       "    </tr>\n",
       "    <tr>\n",
       "      <th>FRP.Cancelled</th>\n",
       "      <td>0</td>\n",
       "    </tr>\n",
       "    <tr>\n",
       "      <th>FRP.Take.up.percent.</th>\n",
       "      <td>0</td>\n",
       "    </tr>\n",
       "    <tr>\n",
       "      <th>Early.RPL</th>\n",
       "      <td>673</td>\n",
       "    </tr>\n",
       "    <tr>\n",
       "      <th>Latest.RPL</th>\n",
       "      <td>19</td>\n",
       "    </tr>\n",
       "    <tr>\n",
       "      <th>Cancelled.Pax</th>\n",
       "      <td>0</td>\n",
       "    </tr>\n",
       "    <tr>\n",
       "      <th>Total.Discount.Pax</th>\n",
       "      <td>0</td>\n",
       "    </tr>\n",
       "    <tr>\n",
       "      <th>Initial.System.Date</th>\n",
       "      <td>8</td>\n",
       "    </tr>\n",
       "    <tr>\n",
       "      <th>Poverty.Code</th>\n",
       "      <td>599</td>\n",
       "    </tr>\n",
       "    <tr>\n",
       "      <th>Region</th>\n",
       "      <td>0</td>\n",
       "    </tr>\n",
       "    <tr>\n",
       "      <th>CRM.Segment</th>\n",
       "      <td>4</td>\n",
       "    </tr>\n",
       "    <tr>\n",
       "      <th>School.Type</th>\n",
       "      <td>0</td>\n",
       "    </tr>\n",
       "    <tr>\n",
       "      <th>Parent.Meeting.Flag</th>\n",
       "      <td>0</td>\n",
       "    </tr>\n",
       "    <tr>\n",
       "      <th>MDR.Low.Grade</th>\n",
       "      <td>68</td>\n",
       "    </tr>\n",
       "    <tr>\n",
       "      <th>MDR.High.Grade</th>\n",
       "      <td>68</td>\n",
       "    </tr>\n",
       "    <tr>\n",
       "      <th>Total.School.Enrollment</th>\n",
       "      <td>91</td>\n",
       "    </tr>\n",
       "    <tr>\n",
       "      <th>Income.Level</th>\n",
       "      <td>62</td>\n",
       "    </tr>\n",
       "    <tr>\n",
       "      <th>EZ.Pay.Take.Up.Rate</th>\n",
       "      <td>0</td>\n",
       "    </tr>\n",
       "    <tr>\n",
       "      <th>School.Sponsor</th>\n",
       "      <td>0</td>\n",
       "    </tr>\n",
       "    <tr>\n",
       "      <th>SPR.Product.Type</th>\n",
       "      <td>0</td>\n",
       "    </tr>\n",
       "    <tr>\n",
       "      <th>SPR.New.Existing</th>\n",
       "      <td>0</td>\n",
       "    </tr>\n",
       "    <tr>\n",
       "      <th>FPP</th>\n",
       "      <td>0</td>\n",
       "    </tr>\n",
       "    <tr>\n",
       "      <th>Total.Pax</th>\n",
       "      <td>0</td>\n",
       "    </tr>\n",
       "    <tr>\n",
       "      <th>SPR.Group.Revenue</th>\n",
       "      <td>0</td>\n",
       "    </tr>\n",
       "    <tr>\n",
       "      <th>NumberOfMeetingswithParents</th>\n",
       "      <td>0</td>\n",
       "    </tr>\n",
       "    <tr>\n",
       "      <th>FirstMeeting</th>\n",
       "      <td>337</td>\n",
       "    </tr>\n",
       "    <tr>\n",
       "      <th>LastMeeting</th>\n",
       "      <td>337</td>\n",
       "    </tr>\n",
       "    <tr>\n",
       "      <th>DifferenceTraveltoFirstMeeting</th>\n",
       "      <td>337</td>\n",
       "    </tr>\n",
       "    <tr>\n",
       "      <th>DifferenceTraveltoLastMeeting</th>\n",
       "      <td>337</td>\n",
       "    </tr>\n",
       "    <tr>\n",
       "      <th>SchoolGradeTypeLow</th>\n",
       "      <td>0</td>\n",
       "    </tr>\n",
       "    <tr>\n",
       "      <th>SchoolGradeTypeHigh</th>\n",
       "      <td>0</td>\n",
       "    </tr>\n",
       "    <tr>\n",
       "      <th>SchoolGradeType</th>\n",
       "      <td>0</td>\n",
       "    </tr>\n",
       "    <tr>\n",
       "      <th>DepartureMonth</th>\n",
       "      <td>0</td>\n",
       "    </tr>\n",
       "    <tr>\n",
       "      <th>GroupGradeTypeLow</th>\n",
       "      <td>0</td>\n",
       "    </tr>\n",
       "    <tr>\n",
       "      <th>GroupGradeTypeHigh</th>\n",
       "      <td>0</td>\n",
       "    </tr>\n",
       "    <tr>\n",
       "      <th>GroupGradeType</th>\n",
       "      <td>0</td>\n",
       "    </tr>\n",
       "    <tr>\n",
       "      <th>MajorProgramCode</th>\n",
       "      <td>0</td>\n",
       "    </tr>\n",
       "    <tr>\n",
       "      <th>SingleGradeTripFlag</th>\n",
       "      <td>0</td>\n",
       "    </tr>\n",
       "    <tr>\n",
       "      <th>FPP.to.School.enrollment</th>\n",
       "      <td>91</td>\n",
       "    </tr>\n",
       "    <tr>\n",
       "      <th>FPP.to.PAX</th>\n",
       "      <td>0</td>\n",
       "    </tr>\n",
       "    <tr>\n",
       "      <th>Num.of.Non_FPP.PAX</th>\n",
       "      <td>0</td>\n",
       "    </tr>\n",
       "    <tr>\n",
       "      <th>SchoolSizeIndicator</th>\n",
       "      <td>91</td>\n",
       "    </tr>\n",
       "    <tr>\n",
       "      <th>Retained.in.2012.</th>\n",
       "      <td>0</td>\n",
       "    </tr>\n",
       "  </tbody>\n",
       "</table>\n",
       "</div>"
      ],
      "text/plain": [
       "                                   0\n",
       "Program.Code                       0\n",
       "From.Grade                       127\n",
       "To.Grade                         150\n",
       "Group.State                        0\n",
       "Is.Non.Annual.                     0\n",
       "Days                               0\n",
       "Travel.Type                        0\n",
       "Departure.Date                     0\n",
       "Return.Date                        0\n",
       "Deposit.Date                       0\n",
       "Special.Pay                     1919\n",
       "Tuition                            0\n",
       "FRP.Active                         0\n",
       "FRP.Cancelled                      0\n",
       "FRP.Take.up.percent.               0\n",
       "Early.RPL                        673\n",
       "Latest.RPL                        19\n",
       "Cancelled.Pax                      0\n",
       "Total.Discount.Pax                 0\n",
       "Initial.System.Date                8\n",
       "Poverty.Code                     599\n",
       "Region                             0\n",
       "CRM.Segment                        4\n",
       "School.Type                        0\n",
       "Parent.Meeting.Flag                0\n",
       "MDR.Low.Grade                     68\n",
       "MDR.High.Grade                    68\n",
       "Total.School.Enrollment           91\n",
       "Income.Level                      62\n",
       "EZ.Pay.Take.Up.Rate                0\n",
       "School.Sponsor                     0\n",
       "SPR.Product.Type                   0\n",
       "SPR.New.Existing                   0\n",
       "FPP                                0\n",
       "Total.Pax                          0\n",
       "SPR.Group.Revenue                  0\n",
       "NumberOfMeetingswithParents        0\n",
       "FirstMeeting                     337\n",
       "LastMeeting                      337\n",
       "DifferenceTraveltoFirstMeeting   337\n",
       "DifferenceTraveltoLastMeeting    337\n",
       "SchoolGradeTypeLow                 0\n",
       "SchoolGradeTypeHigh                0\n",
       "SchoolGradeType                    0\n",
       "DepartureMonth                     0\n",
       "GroupGradeTypeLow                  0\n",
       "GroupGradeTypeHigh                 0\n",
       "GroupGradeType                     0\n",
       "MajorProgramCode                   0\n",
       "SingleGradeTripFlag                0\n",
       "FPP.to.School.enrollment          91\n",
       "FPP.to.PAX                         0\n",
       "Num.of.Non_FPP.PAX                 0\n",
       "SchoolSizeIndicator               91\n",
       "Retained.in.2012.                  0"
      ]
     },
     "execution_count": 751,
     "metadata": {},
     "output_type": "execute_result"
    }
   ],
   "source": [
    "#find number of missing values in each column\n",
    "STCdata_A.isnull().sum().to_frame()"
   ]
  },
  {
   "cell_type": "markdown",
   "id": "97bf8ff9",
   "metadata": {},
   "source": [
    "Dealing with missing values is a challenging problem, which could occupy a quarter of its own.\n",
    "The purpose of this homework is not to investigate in-depth approaches to dealing with missing values,\n",
    "but rather to investigate classification. \n",
    "For that reason, we take the following simple approach. \n",
    "\n",
    "The function `fixNAs` below fixes missing values. \n",
    "The function defines reactions:\n",
    "\n",
    " - adds a new category \"FIXED_NA\" for a missing value of a categorical/factor variable;\n",
    " - fills zero value for a missing value of a numeric variable;\n",
    " - fills \"1900-01-01\" for a missing value of a date variable.\n",
    "\n",
    "Then it loops through all columns in the dataframe, \n",
    "reads their types, and loops through all the values, \n",
    "applying the defined reaction to any missing data point. \n",
    "In addition, the function creates a surrogate dummy \n",
    "variable for each column containing at least one missing value\n",
    "(for example, `Special.Pay_surrogate`), which takes a value \n",
    "of 1 whenever the original variable (`Special.Pay`) has a\n",
    "missing value, and 0 otherwise."
   ]
  },
  {
   "cell_type": "code",
   "execution_count": 752,
   "id": "79c59dfa",
   "metadata": {},
   "outputs": [],
   "source": [
    "def fixNAs(data_frame):\n",
    "  # Define reactions to NAs\n",
    "  integer_reac = 0\n",
    "  factor_reac = \"FIXED_NA\"\n",
    "  character_reac = \"FIXED_NA\"\n",
    "  date_reac = pd.to_datetime(\"1900-01-01\")\n",
    "  \n",
    "  for col in data_frame.columns:\n",
    "    col_data = data_frame[col]\n",
    "    if col_data.dtype in [int, float]:\n",
    "      if pd.isnull(col_data).sum() > 0:\n",
    "        data_frame[f\"{col}_surrogate\"] = (col_data.isna()).astype(int).astype(str)\n",
    "        data_frame[col].fillna(integer_reac, inplace=True)\n",
    "    elif col_data.dtype == object:\n",
    "      if pd.isnull(col_data).sum() > 0:\n",
    "        data_frame[f\"{col}_surrogate\"] = (col_data.isna()).astype(int).astype(str)\n",
    "        data_frame[col].fillna(character_reac, inplace=True)\n",
    "    elif col_data.dtype == 'datetime64[ns]':\n",
    "      if pd.isnull(col_data).sum() > 0:\n",
    "        data_frame[f\"{col}_surrogate\"] = (col_data.isna()).astype(int).astype(str)\n",
    "        data_frame[col].fillna(date_reac, inplace=True)\n",
    "    elif col_data.dtype == 'category':\n",
    "      if pd.isnull(col_data).sum() > 0:\n",
    "        #adds a new category \"FIXED_NA\" for a missing value of a categorical/factor variable\n",
    "        data_frame[col].cat.add_categories('FIXED_NA', inplace=True)\n",
    "        data_frame[f\"{col}_surrogate\"] = (col_data.isna()).astype(int).astype(str)\n",
    "        data_frame[col].fillna(factor_reac, inplace=True)\n",
    "\n",
    "  return data_frame"
   ]
  },
  {
   "cell_type": "markdown",
   "id": "54f7a768",
   "metadata": {},
   "source": [
    "We apply the above defined function to our data frame."
   ]
  },
  {
   "cell_type": "code",
   "execution_count": 753,
   "id": "dab107e2",
   "metadata": {},
   "outputs": [],
   "source": [
    "STCdata_A = fixNAs(STCdata_A)"
   ]
  },
  {
   "cell_type": "markdown",
   "id": "f89c96a6",
   "metadata": {
    "lines_to_next_cell": 0
   },
   "source": [
    "We can see that the columns do not have any missing values any more."
   ]
  },
  {
   "cell_type": "code",
   "execution_count": 754,
   "id": "95b6bbb3",
   "metadata": {
    "lines_to_next_cell": 2
   },
   "outputs": [
    {
     "data": {
      "text/plain": [
       "False"
      ]
     },
     "execution_count": 754,
     "metadata": {},
     "output_type": "execute_result"
    }
   ],
   "source": [
    "any(STCdata_A.isnull().sum() > 0)"
   ]
  },
  {
   "cell_type": "markdown",
   "id": "5e5d285f",
   "metadata": {
    "lines_to_next_cell": 0
   },
   "source": [
    "Next, we combine the rare categories. Levels that do not occur often \n",
    "during training tend not to have reliable effect estimates \n",
    "and contribute to over-fit. \n",
    "\n",
    "Let us check for rare categories in the variable `Group.State`."
   ]
  },
  {
   "cell_type": "code",
   "execution_count": 755,
   "id": "cfcc3aec",
   "metadata": {
    "lines_to_next_cell": 2
   },
   "outputs": [
    {
     "data": {
      "text/html": [
       "<div>\n",
       "<style scoped>\n",
       "    .dataframe tbody tr th:only-of-type {\n",
       "        vertical-align: middle;\n",
       "    }\n",
       "\n",
       "    .dataframe tbody tr th {\n",
       "        vertical-align: top;\n",
       "    }\n",
       "\n",
       "    .dataframe thead th {\n",
       "        text-align: right;\n",
       "    }\n",
       "</style>\n",
       "<table border=\"1\" class=\"dataframe\">\n",
       "  <thead>\n",
       "    <tr style=\"text-align: right;\">\n",
       "      <th></th>\n",
       "      <th>Group.State</th>\n",
       "    </tr>\n",
       "  </thead>\n",
       "  <tbody>\n",
       "    <tr>\n",
       "      <th>CA</th>\n",
       "      <td>718</td>\n",
       "    </tr>\n",
       "    <tr>\n",
       "      <th>TX</th>\n",
       "      <td>308</td>\n",
       "    </tr>\n",
       "    <tr>\n",
       "      <th>WA</th>\n",
       "      <td>147</td>\n",
       "    </tr>\n",
       "    <tr>\n",
       "      <th>IL</th>\n",
       "      <td>104</td>\n",
       "    </tr>\n",
       "    <tr>\n",
       "      <th>CO</th>\n",
       "      <td>89</td>\n",
       "    </tr>\n",
       "    <tr>\n",
       "      <th>MI</th>\n",
       "      <td>71</td>\n",
       "    </tr>\n",
       "    <tr>\n",
       "      <th>FL</th>\n",
       "      <td>62</td>\n",
       "    </tr>\n",
       "    <tr>\n",
       "      <th>OH</th>\n",
       "      <td>53</td>\n",
       "    </tr>\n",
       "    <tr>\n",
       "      <th>AZ</th>\n",
       "      <td>53</td>\n",
       "    </tr>\n",
       "    <tr>\n",
       "      <th>OR</th>\n",
       "      <td>51</td>\n",
       "    </tr>\n",
       "    <tr>\n",
       "      <th>MN</th>\n",
       "      <td>51</td>\n",
       "    </tr>\n",
       "    <tr>\n",
       "      <th>WI</th>\n",
       "      <td>46</td>\n",
       "    </tr>\n",
       "    <tr>\n",
       "      <th>IN</th>\n",
       "      <td>43</td>\n",
       "    </tr>\n",
       "    <tr>\n",
       "      <th>MO</th>\n",
       "      <td>43</td>\n",
       "    </tr>\n",
       "    <tr>\n",
       "      <th>NE</th>\n",
       "      <td>42</td>\n",
       "    </tr>\n",
       "    <tr>\n",
       "      <th>TN</th>\n",
       "      <td>38</td>\n",
       "    </tr>\n",
       "    <tr>\n",
       "      <th>MA</th>\n",
       "      <td>36</td>\n",
       "    </tr>\n",
       "    <tr>\n",
       "      <th>IA</th>\n",
       "      <td>35</td>\n",
       "    </tr>\n",
       "    <tr>\n",
       "      <th>OK</th>\n",
       "      <td>33</td>\n",
       "    </tr>\n",
       "    <tr>\n",
       "      <th>LA</th>\n",
       "      <td>31</td>\n",
       "    </tr>\n",
       "    <tr>\n",
       "      <th>KS</th>\n",
       "      <td>26</td>\n",
       "    </tr>\n",
       "    <tr>\n",
       "      <th>GA</th>\n",
       "      <td>22</td>\n",
       "    </tr>\n",
       "    <tr>\n",
       "      <th>AL</th>\n",
       "      <td>21</td>\n",
       "    </tr>\n",
       "    <tr>\n",
       "      <th>NV</th>\n",
       "      <td>20</td>\n",
       "    </tr>\n",
       "    <tr>\n",
       "      <th>NM</th>\n",
       "      <td>20</td>\n",
       "    </tr>\n",
       "    <tr>\n",
       "      <th>NY</th>\n",
       "      <td>19</td>\n",
       "    </tr>\n",
       "    <tr>\n",
       "      <th>VA</th>\n",
       "      <td>18</td>\n",
       "    </tr>\n",
       "    <tr>\n",
       "      <th>KY</th>\n",
       "      <td>16</td>\n",
       "    </tr>\n",
       "    <tr>\n",
       "      <th>NC</th>\n",
       "      <td>16</td>\n",
       "    </tr>\n",
       "    <tr>\n",
       "      <th>MD</th>\n",
       "      <td>15</td>\n",
       "    </tr>\n",
       "    <tr>\n",
       "      <th>CT</th>\n",
       "      <td>15</td>\n",
       "    </tr>\n",
       "    <tr>\n",
       "      <th>ID</th>\n",
       "      <td>14</td>\n",
       "    </tr>\n",
       "    <tr>\n",
       "      <th>SD</th>\n",
       "      <td>11</td>\n",
       "    </tr>\n",
       "    <tr>\n",
       "      <th>SC</th>\n",
       "      <td>10</td>\n",
       "    </tr>\n",
       "    <tr>\n",
       "      <th>AR</th>\n",
       "      <td>10</td>\n",
       "    </tr>\n",
       "    <tr>\n",
       "      <th>MS</th>\n",
       "      <td>9</td>\n",
       "    </tr>\n",
       "    <tr>\n",
       "      <th>UT</th>\n",
       "      <td>9</td>\n",
       "    </tr>\n",
       "    <tr>\n",
       "      <th>HI</th>\n",
       "      <td>9</td>\n",
       "    </tr>\n",
       "    <tr>\n",
       "      <th>NH</th>\n",
       "      <td>7</td>\n",
       "    </tr>\n",
       "    <tr>\n",
       "      <th>ME</th>\n",
       "      <td>7</td>\n",
       "    </tr>\n",
       "    <tr>\n",
       "      <th>NJ</th>\n",
       "      <td>6</td>\n",
       "    </tr>\n",
       "    <tr>\n",
       "      <th>MT</th>\n",
       "      <td>6</td>\n",
       "    </tr>\n",
       "    <tr>\n",
       "      <th>ND</th>\n",
       "      <td>5</td>\n",
       "    </tr>\n",
       "    <tr>\n",
       "      <th>PA</th>\n",
       "      <td>5</td>\n",
       "    </tr>\n",
       "    <tr>\n",
       "      <th>AK</th>\n",
       "      <td>5</td>\n",
       "    </tr>\n",
       "    <tr>\n",
       "      <th>MX</th>\n",
       "      <td>3</td>\n",
       "    </tr>\n",
       "    <tr>\n",
       "      <th>RI</th>\n",
       "      <td>3</td>\n",
       "    </tr>\n",
       "    <tr>\n",
       "      <th>WY</th>\n",
       "      <td>2</td>\n",
       "    </tr>\n",
       "    <tr>\n",
       "      <th>PR</th>\n",
       "      <td>1</td>\n",
       "    </tr>\n",
       "    <tr>\n",
       "      <th>VT</th>\n",
       "      <td>1</td>\n",
       "    </tr>\n",
       "    <tr>\n",
       "      <th>Cayman Islands</th>\n",
       "      <td>1</td>\n",
       "    </tr>\n",
       "    <tr>\n",
       "      <th>Bermuda</th>\n",
       "      <td>1</td>\n",
       "    </tr>\n",
       "    <tr>\n",
       "      <th>WV</th>\n",
       "      <td>1</td>\n",
       "    </tr>\n",
       "    <tr>\n",
       "      <th>AB</th>\n",
       "      <td>1</td>\n",
       "    </tr>\n",
       "  </tbody>\n",
       "</table>\n",
       "</div>"
      ],
      "text/plain": [
       "                Group.State\n",
       "CA                      718\n",
       "TX                      308\n",
       "WA                      147\n",
       "IL                      104\n",
       "CO                       89\n",
       "MI                       71\n",
       "FL                       62\n",
       "OH                       53\n",
       "AZ                       53\n",
       "OR                       51\n",
       "MN                       51\n",
       "WI                       46\n",
       "IN                       43\n",
       "MO                       43\n",
       "NE                       42\n",
       "TN                       38\n",
       "MA                       36\n",
       "IA                       35\n",
       "OK                       33\n",
       "LA                       31\n",
       "KS                       26\n",
       "GA                       22\n",
       "AL                       21\n",
       "NV                       20\n",
       "NM                       20\n",
       "NY                       19\n",
       "VA                       18\n",
       "KY                       16\n",
       "NC                       16\n",
       "MD                       15\n",
       "CT                       15\n",
       "ID                       14\n",
       "SD                       11\n",
       "SC                       10\n",
       "AR                       10\n",
       "MS                        9\n",
       "UT                        9\n",
       "HI                        9\n",
       "NH                        7\n",
       "ME                        7\n",
       "NJ                        6\n",
       "MT                        6\n",
       "ND                        5\n",
       "PA                        5\n",
       "AK                        5\n",
       "MX                        3\n",
       "RI                        3\n",
       "WY                        2\n",
       "PR                        1\n",
       "VT                        1\n",
       "Cayman Islands            1\n",
       "Bermuda                   1\n",
       "WV                        1\n",
       "AB                        1"
      ]
     },
     "execution_count": 755,
     "metadata": {},
     "output_type": "execute_result"
    }
   ],
   "source": [
    "STCdata_A['Group.State'].value_counts().to_frame()"
   ]
  },
  {
   "cell_type": "code",
   "execution_count": 756,
   "id": "92cdf433",
   "metadata": {},
   "outputs": [
    {
     "data": {
      "text/plain": [
       "<AxesSubplot:>"
      ]
     },
     "execution_count": 756,
     "metadata": {},
     "output_type": "execute_result"
    },
    {
     "data": {
      "image/png": "[encoded data removed]",
      "text/plain": [
       "<Figure size 1000x500 with 1 Axes>"
      ]
     },
     "metadata": {},
     "output_type": "display_data"
    }
   ],
   "source": [
    "plt.rcParams['figure.figsize'] = [10, 5]\n",
    "STCdata_A['Group.State'].value_counts().to_frame().plot(kind='bar')"
   ]
  },
  {
   "cell_type": "markdown",
   "id": "3bc1d126",
   "metadata": {},
   "source": [
    "Let us create a custom function to combine rare categories.\n",
    "The function again loops through all the columns in the dataframe,\n",
    "reads their types, and creates a table of counts \n",
    "for each level of the factor/categorical variables. All\n",
    "levels with counts less than the `mincount` are combined into \"other.\"\n",
    "The function combines rare categories into \"Other.\"+the name of the \n",
    "original variable (for example, `Other.State`).\n",
    "This function has two arguments: \n",
    "\n",
    "- the name of the dataframe; and \n",
    "- the count of observations in a category to define \"rare.\"\n"
   ]
  },
  {
   "cell_type": "markdown",
   "id": "7aed581b",
   "metadata": {},
   "source": [
    "Let us combine categories with $<10$ values in `STCdata` into \"Other.\"\n",
    "Ultimately, it is going to depend on the person doing the analysis on what\n",
    "they decide to call ``rare''."
   ]
  },
  {
   "cell_type": "code",
   "execution_count": 757,
   "id": "8c14d6f5",
   "metadata": {},
   "outputs": [],
   "source": [
    "def combine_rare_categories(data_frame, mincount):\n",
    "    for column in data_frame.columns:\n",
    "        if data_frame[column].dtype == \"category\":\n",
    "            replace = data_frame[column].value_counts()[data_frame[column].value_counts() < mincount].index\n",
    "            data_frame[column].replace(to_replace = replace, value = \"Other.\" + column, inplace = True)\n",
    "    return data_frame"
   ]
  },
  {
   "cell_type": "code",
   "execution_count": 758,
   "id": "43e31866",
   "metadata": {},
   "outputs": [],
   "source": [
    "STCdata_A = combine_rare_categories(STCdata_A, 10)"
   ]
  },
  {
   "cell_type": "markdown",
   "id": "cabcf0cb",
   "metadata": {
    "lines_to_next_cell": 0
   },
   "source": [
    "Let us look at `Group.State` again."
   ]
  },
  {
   "cell_type": "code",
   "execution_count": 759,
   "id": "a1b7b5d7",
   "metadata": {},
   "outputs": [
    {
     "data": {
      "text/html": [
       "<div>\n",
       "<style scoped>\n",
       "    .dataframe tbody tr th:only-of-type {\n",
       "        vertical-align: middle;\n",
       "    }\n",
       "\n",
       "    .dataframe tbody tr th {\n",
       "        vertical-align: top;\n",
       "    }\n",
       "\n",
       "    .dataframe thead th {\n",
       "        text-align: right;\n",
       "    }\n",
       "</style>\n",
       "<table border=\"1\" class=\"dataframe\">\n",
       "  <thead>\n",
       "    <tr style=\"text-align: right;\">\n",
       "      <th></th>\n",
       "      <th>Group.State</th>\n",
       "    </tr>\n",
       "  </thead>\n",
       "  <tbody>\n",
       "    <tr>\n",
       "      <th>CA</th>\n",
       "      <td>718</td>\n",
       "    </tr>\n",
       "    <tr>\n",
       "      <th>TX</th>\n",
       "      <td>308</td>\n",
       "    </tr>\n",
       "    <tr>\n",
       "      <th>WA</th>\n",
       "      <td>147</td>\n",
       "    </tr>\n",
       "    <tr>\n",
       "      <th>IL</th>\n",
       "      <td>104</td>\n",
       "    </tr>\n",
       "    <tr>\n",
       "      <th>CO</th>\n",
       "      <td>89</td>\n",
       "    </tr>\n",
       "    <tr>\n",
       "      <th>Other.Group.State</th>\n",
       "      <td>82</td>\n",
       "    </tr>\n",
       "    <tr>\n",
       "      <th>MI</th>\n",
       "      <td>71</td>\n",
       "    </tr>\n",
       "    <tr>\n",
       "      <th>FL</th>\n",
       "      <td>62</td>\n",
       "    </tr>\n",
       "    <tr>\n",
       "      <th>AZ</th>\n",
       "      <td>53</td>\n",
       "    </tr>\n",
       "    <tr>\n",
       "      <th>OH</th>\n",
       "      <td>53</td>\n",
       "    </tr>\n",
       "    <tr>\n",
       "      <th>MN</th>\n",
       "      <td>51</td>\n",
       "    </tr>\n",
       "    <tr>\n",
       "      <th>OR</th>\n",
       "      <td>51</td>\n",
       "    </tr>\n",
       "    <tr>\n",
       "      <th>WI</th>\n",
       "      <td>46</td>\n",
       "    </tr>\n",
       "    <tr>\n",
       "      <th>MO</th>\n",
       "      <td>43</td>\n",
       "    </tr>\n",
       "    <tr>\n",
       "      <th>IN</th>\n",
       "      <td>43</td>\n",
       "    </tr>\n",
       "    <tr>\n",
       "      <th>NE</th>\n",
       "      <td>42</td>\n",
       "    </tr>\n",
       "    <tr>\n",
       "      <th>TN</th>\n",
       "      <td>38</td>\n",
       "    </tr>\n",
       "    <tr>\n",
       "      <th>MA</th>\n",
       "      <td>36</td>\n",
       "    </tr>\n",
       "    <tr>\n",
       "      <th>IA</th>\n",
       "      <td>35</td>\n",
       "    </tr>\n",
       "    <tr>\n",
       "      <th>OK</th>\n",
       "      <td>33</td>\n",
       "    </tr>\n",
       "    <tr>\n",
       "      <th>LA</th>\n",
       "      <td>31</td>\n",
       "    </tr>\n",
       "    <tr>\n",
       "      <th>KS</th>\n",
       "      <td>26</td>\n",
       "    </tr>\n",
       "    <tr>\n",
       "      <th>GA</th>\n",
       "      <td>22</td>\n",
       "    </tr>\n",
       "    <tr>\n",
       "      <th>AL</th>\n",
       "      <td>21</td>\n",
       "    </tr>\n",
       "    <tr>\n",
       "      <th>NV</th>\n",
       "      <td>20</td>\n",
       "    </tr>\n",
       "    <tr>\n",
       "      <th>NM</th>\n",
       "      <td>20</td>\n",
       "    </tr>\n",
       "    <tr>\n",
       "      <th>NY</th>\n",
       "      <td>19</td>\n",
       "    </tr>\n",
       "    <tr>\n",
       "      <th>VA</th>\n",
       "      <td>18</td>\n",
       "    </tr>\n",
       "    <tr>\n",
       "      <th>NC</th>\n",
       "      <td>16</td>\n",
       "    </tr>\n",
       "    <tr>\n",
       "      <th>KY</th>\n",
       "      <td>16</td>\n",
       "    </tr>\n",
       "    <tr>\n",
       "      <th>MD</th>\n",
       "      <td>15</td>\n",
       "    </tr>\n",
       "    <tr>\n",
       "      <th>CT</th>\n",
       "      <td>15</td>\n",
       "    </tr>\n",
       "    <tr>\n",
       "      <th>ID</th>\n",
       "      <td>14</td>\n",
       "    </tr>\n",
       "    <tr>\n",
       "      <th>SD</th>\n",
       "      <td>11</td>\n",
       "    </tr>\n",
       "    <tr>\n",
       "      <th>SC</th>\n",
       "      <td>10</td>\n",
       "    </tr>\n",
       "    <tr>\n",
       "      <th>AR</th>\n",
       "      <td>10</td>\n",
       "    </tr>\n",
       "  </tbody>\n",
       "</table>\n",
       "</div>"
      ],
      "text/plain": [
       "                   Group.State\n",
       "CA                         718\n",
       "TX                         308\n",
       "WA                         147\n",
       "IL                         104\n",
       "CO                          89\n",
       "Other.Group.State           82\n",
       "MI                          71\n",
       "FL                          62\n",
       "AZ                          53\n",
       "OH                          53\n",
       "MN                          51\n",
       "OR                          51\n",
       "WI                          46\n",
       "MO                          43\n",
       "IN                          43\n",
       "NE                          42\n",
       "TN                          38\n",
       "MA                          36\n",
       "IA                          35\n",
       "OK                          33\n",
       "LA                          31\n",
       "KS                          26\n",
       "GA                          22\n",
       "AL                          21\n",
       "NV                          20\n",
       "NM                          20\n",
       "NY                          19\n",
       "VA                          18\n",
       "NC                          16\n",
       "KY                          16\n",
       "MD                          15\n",
       "CT                          15\n",
       "ID                          14\n",
       "SD                          11\n",
       "SC                          10\n",
       "AR                          10"
      ]
     },
     "execution_count": 759,
     "metadata": {},
     "output_type": "execute_result"
    }
   ],
   "source": [
    "STCdata_A['Group.State'].value_counts().to_frame()"
   ]
  },
  {
   "cell_type": "markdown",
   "id": "40cc529e",
   "metadata": {},
   "source": [
    "You can investigate other columns to see if everything looks fine."
   ]
  },
  {
   "cell_type": "markdown",
   "id": "ac90f696",
   "metadata": {},
   "source": [
    "# Split the data into training and testing sets\n",
    "\n",
    "This is a very important step, both conceptually and technically.\n",
    "Conceptually, because the goal of predictive modeling is not to build\n",
    "a model that fits well the data it trains on, \n",
    "but rather one that would best predict the new data.\n",
    "A test set is in this sense the best representation \n",
    "of what the \"new data\" may look like. Technically, to facilitate comparison\n",
    "between different models, we need to maintain the same IDs in\n",
    "the corresponding sets at all times.\n",
    "We will accomplishes this through two \"tricks\": \n",
    "\n",
    "- a random seed ensures that the random-number generator \n",
    "  is initialized identically in each run; and \n",
    "- the `inTrain` vector is created once and can then be applied \n",
    "  anytime the data needs to be split. \n",
    "  \n",
    "By default, the code sets 500 data points in the test set, \n",
    "and the remainder 1,889 into the training set.\n"
   ]
  },
  {
   "cell_type": "code",
   "execution_count": 784,
   "id": "33cd8743",
   "metadata": {},
   "outputs": [],
   "source": [
    "df = pd.read_csv(\"STCdata_A.csv\", index_col=0)\n",
    "from sklearn.preprocessing import LabelEncoder\n",
    "le = LabelEncoder()\n",
    "df = df.apply(le.fit_transform)"
   ]
  },
  {
   "cell_type": "code",
   "execution_count": 760,
   "id": "cf6e5cd9",
   "metadata": {},
   "outputs": [],
   "source": [
    "# #Change all the columns with _surrogate in the name to categorical\n",
    "# for col in STCdata_A.columns:\n",
    "#     if '_surrogate' in col:\n",
    "#         STCdata_A[col] = STCdata_A[col].astype('category')"
   ]
  },
  {
   "cell_type": "code",
   "execution_count": 785,
   "id": "17ab782c",
   "metadata": {},
   "outputs": [],
   "source": [
    "df_train, df_test = train_test_split(df, test_size = 500/len(STCdata_A), random_state=123)"
   ]
  },
  {
   "cell_type": "markdown",
   "id": "2c19dc2d",
   "metadata": {},
   "source": [
    "Let us check that both the training and test sets have a similar\n",
    "proportion of positive and negative cases."
   ]
  },
  {
   "cell_type": "code",
   "execution_count": 786,
   "id": "e7fa4404",
   "metadata": {},
   "outputs": [
    {
     "name": "stdout",
     "output_type": "stream",
     "text": [
      "Training set proportion:\n",
      "1   0.6077\n",
      "0   0.3923\n",
      "Name: Retained.in.2012., dtype: float64\n",
      "Test set proportion:\n",
      "1   0.6060\n",
      "0   0.3940\n",
      "Name: Retained.in.2012., dtype: float64\n"
     ]
    }
   ],
   "source": [
    "print('Training set proportion:')\n",
    "print(df_train['Retained.in.2012.'].value_counts(normalize=True))\n",
    "\n",
    "print('Test set proportion:')\n",
    "print(df_test['Retained.in.2012.'].value_counts(normalize=True))"
   ]
  },
  {
   "cell_type": "markdown",
   "id": "3c0cbc4b",
   "metadata": {},
   "source": [
    "# Fitting a logistic regression model\n",
    "\n",
    "Let us fit a logistic regression model with all the variables included on the training set."
   ]
  },
  {
   "cell_type": "code",
   "execution_count": 763,
   "id": "906148ef",
   "metadata": {},
   "outputs": [],
   "source": [
    "# import statsmodels.api as sm\n",
    "\n",
    "\n",
    "# y = df_train[\"Retained.in.2012.\"].to_frame()\n",
    "\n",
    "# X = df_train.drop(\"Retained.in.2012.\", axis=1)\n",
    "\n",
    "# logit_model = sm.GLM(y, X, family=sm.families.Binomial())\n",
    "# # result = logit_model.fit()\n",
    "# # print(result.summary())"
   ]
  },
  {
   "cell_type": "code",
   "execution_count": 787,
   "id": "f6eb5b52",
   "metadata": {},
   "outputs": [
    {
     "data": {
      "text/html": [
       "<style>#sk-container-id-8 {color: black;background-color: white;}#sk-container-id-8 pre{padding: 0;}#sk-container-id-8 div.sk-toggleable {background-color: white;}#sk-container-id-8 label.sk-toggleable__label {cursor: pointer;display: block;width: 100%;margin-bottom: 0;padding: 0.3em;box-sizing: border-box;text-align: center;}#sk-container-id-8 label.sk-toggleable__label-arrow:before {content: \"▸\";float: left;margin-right: 0.25em;color: #696969;}#sk-container-id-8 label.sk-toggleable__label-arrow:hover:before {color: black;}#sk-container-id-8 div.sk-estimator:hover label.sk-toggleable__label-arrow:before {color: black;}#sk-container-id-8 div.sk-toggleable__content {max-height: 0;max-width: 0;overflow: hidden;text-align: left;background-color: #f0f8ff;}#sk-container-id-8 div.sk-toggleable__content pre {margin: 0.2em;color: black;border-radius: 0.25em;background-color: #f0f8ff;}#sk-container-id-8 input.sk-toggleable__control:checked~div.sk-toggleable__content {max-height: 200px;max-width: 100%;overflow: auto;}#sk-container-id-8 input.sk-toggleable__control:checked~label.sk-toggleable__label-arrow:before {content: \"▾\";}#sk-container-id-8 div.sk-estimator input.sk-toggleable__control:checked~label.sk-toggleable__label {background-color: #d4ebff;}#sk-container-id-8 div.sk-label input.sk-toggleable__control:checked~label.sk-toggleable__label {background-color: #d4ebff;}#sk-container-id-8 input.sk-hidden--visually {border: 0;clip: rect(1px 1px 1px 1px);clip: rect(1px, 1px, 1px, 1px);height: 1px;margin: -1px;overflow: hidden;padding: 0;position: absolute;width: 1px;}#sk-container-id-8 div.sk-estimator {font-family: monospace;background-color: #f0f8ff;border: 1px dotted black;border-radius: 0.25em;box-sizing: border-box;margin-bottom: 0.5em;}#sk-container-id-8 div.sk-estimator:hover {background-color: #d4ebff;}#sk-container-id-8 div.sk-parallel-item::after {content: \"\";width: 100%;border-bottom: 1px solid gray;flex-grow: 1;}#sk-container-id-8 div.sk-label:hover label.sk-toggleable__label {background-color: #d4ebff;}#sk-container-id-8 div.sk-serial::before {content: \"\";position: absolute;border-left: 1px solid gray;box-sizing: border-box;top: 0;bottom: 0;left: 50%;z-index: 0;}#sk-container-id-8 div.sk-serial {display: flex;flex-direction: column;align-items: center;background-color: white;padding-right: 0.2em;padding-left: 0.2em;position: relative;}#sk-container-id-8 div.sk-item {position: relative;z-index: 1;}#sk-container-id-8 div.sk-parallel {display: flex;align-items: stretch;justify-content: center;background-color: white;position: relative;}#sk-container-id-8 div.sk-item::before, #sk-container-id-8 div.sk-parallel-item::before {content: \"\";position: absolute;border-left: 1px solid gray;box-sizing: border-box;top: 0;bottom: 0;left: 50%;z-index: -1;}#sk-container-id-8 div.sk-parallel-item {display: flex;flex-direction: column;z-index: 1;position: relative;background-color: white;}#sk-container-id-8 div.sk-parallel-item:first-child::after {align-self: flex-end;width: 50%;}#sk-container-id-8 div.sk-parallel-item:last-child::after {align-self: flex-start;width: 50%;}#sk-container-id-8 div.sk-parallel-item:only-child::after {width: 0;}#sk-container-id-8 div.sk-dashed-wrapped {border: 1px dashed gray;margin: 0 0.4em 0.5em 0.4em;box-sizing: border-box;padding-bottom: 0.4em;background-color: white;}#sk-container-id-8 div.sk-label label {font-family: monospace;font-weight: bold;display: inline-block;line-height: 1.2em;}#sk-container-id-8 div.sk-label-container {text-align: center;}#sk-container-id-8 div.sk-container {/* jupyter's `normalize.less` sets `[hidden] { display: none; }` but bootstrap.min.css set `[hidden] { display: none !important; }` so we also need the `!important` here to be able to override the default hidden behavior on the sphinx rendered scikit-learn.org. See: https://github.com/scikit-learn/scikit-learn/issues/21755 */display: inline-block !important;position: relative;}#sk-container-id-8 div.sk-text-repr-fallback {display: none;}</style><div id=\"sk-container-id-8\" class=\"sk-top-container\"><div class=\"sk-text-repr-fallback\"><pre>LogisticRegression()</pre><b>In a Jupyter environment, please rerun this cell to show the HTML representation or trust the notebook. <br />On GitHub, the HTML representation is unable to render, please try loading this page with nbviewer.org.</b></div><div class=\"sk-container\" hidden><div class=\"sk-item\"><div class=\"sk-estimator sk-toggleable\"><input class=\"sk-toggleable__control sk-hidden--visually\" id=\"sk-estimator-id-8\" type=\"checkbox\" checked><label for=\"sk-estimator-id-8\" class=\"sk-toggleable__label sk-toggleable__label-arrow\">LogisticRegression</label><div class=\"sk-toggleable__content\"><pre>LogisticRegression()</pre></div></div></div></div></div>"
      ],
      "text/plain": [
       "LogisticRegression()"
      ]
     },
     "execution_count": 787,
     "metadata": {},
     "output_type": "execute_result"
    }
   ],
   "source": [
    "from sklearn.linear_model import LogisticRegression\n",
    "from sklearn.preprocessing import OneHotEncoder, LabelEncoder\n",
    "\n",
    "y = df_train[\"Retained.in.2012.\"].values\n",
    "X = df_train.drop(\"Retained.in.2012.\", axis=1)\n",
    "\n",
    "# X = pd.get_dummies(df_train.drop(\"Retained.in.2012.\", axis=1))\n",
    "# #convert datetime to integer\n",
    "# for col in X.columns:\n",
    "#     if X[col].dtype == 'datetime64[ns]':\n",
    "#         X[col] = X[col].astype(int)\n",
    "        \n",
    "# #keep all the columns with _surrogate in the name and drop all the other columns with same name as the original column\n",
    "# for col in X.columns:\n",
    "#     if '_surrogate' in col:\n",
    "#         X = X[X.columns.drop(list(X.filter(regex=col.replace('_surrogate', ''))))]\n",
    "\n",
    "\n",
    "\n",
    "logit_model = LogisticRegression()\n",
    "logit_model.fit(X, y)\n",
    "logit_model"
   ]
  },
  {
   "cell_type": "code",
   "execution_count": 788,
   "id": "c4b6fb50",
   "metadata": {},
   "outputs": [
    {
     "name": "stdout",
     "output_type": "stream",
     "text": [
      "Confusion Matrix:\n",
      "[[373 368]\n",
      " [212 936]]\n"
     ]
    }
   ],
   "source": [
    "y_pred = logit_model.predict(X)\n",
    "from sklearn.metrics import confusion_matrix\n",
    "print(\"Confusion Matrix:\")\n",
    "print(confusion_matrix(y, y_pred))"
   ]
  },
  {
   "cell_type": "markdown",
   "id": "573477d7",
   "metadata": {},
   "source": [
    "The model is overfit. It has too many insignificant variables.\n",
    "\n",
    "Let us fit a much simpler model. We will use stepwise regressions. \n",
    "\n",
    "Recall stepwise regression from BUS 41100 Applied regression course.\n",
    "See, for example, [Week 9 slides](https://maxhfarrell.com/bus41100_old/).\n",
    "You can also check Section 6.1.2 of the [ISLR](https://statlearning.com/) book.\n",
    "\n",
    "There are three approaches to running stepwise regressions: backward, forward and both.\n",
    "We need to specify criterion for inclusion/exclusion of variables.\n",
    "We will use one based on Bayesian information criteria.\n",
    "\n",
    "Observe the process of variables being added to the model,\n",
    "(labeled by \"+\" in the output), gradual expansion of the model, \n",
    "and improvement of BIC.\n"
   ]
  },
  {
   "cell_type": "code",
   "execution_count": null,
   "id": "3cae0bdb",
   "metadata": {},
   "outputs": [],
   "source": [
    "# Start from a null model with intercept only, and add one covarite at a time until maximum BIC.\n",
    "lgfit.null <- glm(Retained.in.2012.~ 1, \n",
    "                 data=df.train, family=\"binomial\")\n",
    "\n",
    "lgfit.selected <- step(lgfit.null,                  # the starting model for our search\n",
    "                       scope=formula(lgfit.all),    # the largest possible model that we will consider.\n",
    "                       direction=\"forward\", \n",
    "                       k=log(nrow(df.train)),       # by default step() uses AIC, but by\n",
    "                                                    # multiplying log(n) on the penalty, we get BIC.\n",
    "                                                    # See ?step -> Arguments -> k\n",
    "                       trace=1)"
   ]
  },
  {
   "cell_type": "code",
   "execution_count": 782,
   "id": "7e58447a",
   "metadata": {},
   "outputs": [
    {
     "ename": "ValueError",
     "evalue": "could not convert string to float: 'CD'",
     "output_type": "error",
     "traceback": [
      "\u001b[0;31m---------------------------------------------------------------------------\u001b[0m",
      "\u001b[0;31mValueError\u001b[0m                                Traceback (most recent call last)",
      "\u001b[1;32m/Users/amankrishna/Git/busn-41204-machine-learning/week4/hw3/hw3.ipynb Cell 63\u001b[0m in \u001b[0;36m<cell line: 5>\u001b[0;34m()\u001b[0m\n\u001b[1;32m      <a href='vscode-notebook-cell:/Users/amankrishna/Git/busn-41204-machine-learning/week4/hw3/hw3.ipynb#Y230sZmlsZQ%3D%3D?line=1'>2</a>\u001b[0m \u001b[39mimport\u001b[39;00m \u001b[39mnumpy\u001b[39;00m \u001b[39mas\u001b[39;00m \u001b[39mnp\u001b[39;00m\n\u001b[1;32m      <a href='vscode-notebook-cell:/Users/amankrishna/Git/busn-41204-machine-learning/week4/hw3/hw3.ipynb#Y230sZmlsZQ%3D%3D?line=3'>4</a>\u001b[0m \u001b[39m# Start from a null model with intercept only\u001b[39;00m\n\u001b[0;32m----> <a href='vscode-notebook-cell:/Users/amankrishna/Git/busn-41204-machine-learning/week4/hw3/hw3.ipynb#Y230sZmlsZQ%3D%3D?line=4'>5</a>\u001b[0m df_train \u001b[39m=\u001b[39m df_train\u001b[39m.\u001b[39;49mastype(\u001b[39mfloat\u001b[39;49m)\n\u001b[1;32m      <a href='vscode-notebook-cell:/Users/amankrishna/Git/busn-41204-machine-learning/week4/hw3/hw3.ipynb#Y230sZmlsZQ%3D%3D?line=5'>6</a>\u001b[0m X_train \u001b[39m=\u001b[39m sm\u001b[39m.\u001b[39madd_constant(np\u001b[39m.\u001b[39mones(df_train\u001b[39m.\u001b[39mshape[\u001b[39m0\u001b[39m]))\n\u001b[1;32m      <a href='vscode-notebook-cell:/Users/amankrishna/Git/busn-41204-machine-learning/week4/hw3/hw3.ipynb#Y230sZmlsZQ%3D%3D?line=6'>7</a>\u001b[0m y_train \u001b[39m=\u001b[39m df_train[\u001b[39m'\u001b[39m\u001b[39mRetained.in.2012.\u001b[39m\u001b[39m'\u001b[39m]\n",
      "File \u001b[0;32m~/opt/anaconda3/lib/python3.9/site-packages/pandas/core/generic.py:5912\u001b[0m, in \u001b[0;36mNDFrame.astype\u001b[0;34m(self, dtype, copy, errors)\u001b[0m\n\u001b[1;32m   5905\u001b[0m     results \u001b[39m=\u001b[39m [\n\u001b[1;32m   5906\u001b[0m         \u001b[39mself\u001b[39m\u001b[39m.\u001b[39miloc[:, i]\u001b[39m.\u001b[39mastype(dtype, copy\u001b[39m=\u001b[39mcopy)\n\u001b[1;32m   5907\u001b[0m         \u001b[39mfor\u001b[39;00m i \u001b[39min\u001b[39;00m \u001b[39mrange\u001b[39m(\u001b[39mlen\u001b[39m(\u001b[39mself\u001b[39m\u001b[39m.\u001b[39mcolumns))\n\u001b[1;32m   5908\u001b[0m     ]\n\u001b[1;32m   5910\u001b[0m \u001b[39melse\u001b[39;00m:\n\u001b[1;32m   5911\u001b[0m     \u001b[39m# else, only a single dtype is given\u001b[39;00m\n\u001b[0;32m-> 5912\u001b[0m     new_data \u001b[39m=\u001b[39m \u001b[39mself\u001b[39;49m\u001b[39m.\u001b[39;49m_mgr\u001b[39m.\u001b[39;49mastype(dtype\u001b[39m=\u001b[39;49mdtype, copy\u001b[39m=\u001b[39;49mcopy, errors\u001b[39m=\u001b[39;49merrors)\n\u001b[1;32m   5913\u001b[0m     \u001b[39mreturn\u001b[39;00m \u001b[39mself\u001b[39m\u001b[39m.\u001b[39m_constructor(new_data)\u001b[39m.\u001b[39m__finalize__(\u001b[39mself\u001b[39m, method\u001b[39m=\u001b[39m\u001b[39m\"\u001b[39m\u001b[39mastype\u001b[39m\u001b[39m\"\u001b[39m)\n\u001b[1;32m   5915\u001b[0m \u001b[39m# GH 33113: handle empty frame or series\u001b[39;00m\n",
      "File \u001b[0;32m~/opt/anaconda3/lib/python3.9/site-packages/pandas/core/internals/managers.py:419\u001b[0m, in \u001b[0;36mBaseBlockManager.astype\u001b[0;34m(self, dtype, copy, errors)\u001b[0m\n\u001b[1;32m    418\u001b[0m \u001b[39mdef\u001b[39;00m \u001b[39mastype\u001b[39m(\u001b[39mself\u001b[39m: T, dtype, copy: \u001b[39mbool\u001b[39m \u001b[39m=\u001b[39m \u001b[39mFalse\u001b[39;00m, errors: \u001b[39mstr\u001b[39m \u001b[39m=\u001b[39m \u001b[39m\"\u001b[39m\u001b[39mraise\u001b[39m\u001b[39m\"\u001b[39m) \u001b[39m-\u001b[39m\u001b[39m>\u001b[39m T:\n\u001b[0;32m--> 419\u001b[0m     \u001b[39mreturn\u001b[39;00m \u001b[39mself\u001b[39;49m\u001b[39m.\u001b[39;49mapply(\u001b[39m\"\u001b[39;49m\u001b[39mastype\u001b[39;49m\u001b[39m\"\u001b[39;49m, dtype\u001b[39m=\u001b[39;49mdtype, copy\u001b[39m=\u001b[39;49mcopy, errors\u001b[39m=\u001b[39;49merrors)\n",
      "File \u001b[0;32m~/opt/anaconda3/lib/python3.9/site-packages/pandas/core/internals/managers.py:304\u001b[0m, in \u001b[0;36mBaseBlockManager.apply\u001b[0;34m(self, f, align_keys, ignore_failures, **kwargs)\u001b[0m\n\u001b[1;32m    302\u001b[0m         applied \u001b[39m=\u001b[39m b\u001b[39m.\u001b[39mapply(f, \u001b[39m*\u001b[39m\u001b[39m*\u001b[39mkwargs)\n\u001b[1;32m    303\u001b[0m     \u001b[39melse\u001b[39;00m:\n\u001b[0;32m--> 304\u001b[0m         applied \u001b[39m=\u001b[39m \u001b[39mgetattr\u001b[39;49m(b, f)(\u001b[39m*\u001b[39;49m\u001b[39m*\u001b[39;49mkwargs)\n\u001b[1;32m    305\u001b[0m \u001b[39mexcept\u001b[39;00m (\u001b[39mTypeError\u001b[39;00m, \u001b[39mNotImplementedError\u001b[39;00m):\n\u001b[1;32m    306\u001b[0m     \u001b[39mif\u001b[39;00m \u001b[39mnot\u001b[39;00m ignore_failures:\n",
      "File \u001b[0;32m~/opt/anaconda3/lib/python3.9/site-packages/pandas/core/internals/blocks.py:580\u001b[0m, in \u001b[0;36mBlock.astype\u001b[0;34m(self, dtype, copy, errors)\u001b[0m\n\u001b[1;32m    562\u001b[0m \u001b[39m\"\"\"\u001b[39;00m\n\u001b[1;32m    563\u001b[0m \u001b[39mCoerce to the new dtype.\u001b[39;00m\n\u001b[1;32m    564\u001b[0m \n\u001b[0;32m   (...)\u001b[0m\n\u001b[1;32m    576\u001b[0m \u001b[39mBlock\u001b[39;00m\n\u001b[1;32m    577\u001b[0m \u001b[39m\"\"\"\u001b[39;00m\n\u001b[1;32m    578\u001b[0m values \u001b[39m=\u001b[39m \u001b[39mself\u001b[39m\u001b[39m.\u001b[39mvalues\n\u001b[0;32m--> 580\u001b[0m new_values \u001b[39m=\u001b[39m astype_array_safe(values, dtype, copy\u001b[39m=\u001b[39;49mcopy, errors\u001b[39m=\u001b[39;49merrors)\n\u001b[1;32m    582\u001b[0m new_values \u001b[39m=\u001b[39m maybe_coerce_values(new_values)\n\u001b[1;32m    583\u001b[0m newb \u001b[39m=\u001b[39m \u001b[39mself\u001b[39m\u001b[39m.\u001b[39mmake_block(new_values)\n",
      "File \u001b[0;32m~/opt/anaconda3/lib/python3.9/site-packages/pandas/core/dtypes/cast.py:1292\u001b[0m, in \u001b[0;36mastype_array_safe\u001b[0;34m(values, dtype, copy, errors)\u001b[0m\n\u001b[1;32m   1289\u001b[0m     dtype \u001b[39m=\u001b[39m dtype\u001b[39m.\u001b[39mnumpy_dtype\n\u001b[1;32m   1291\u001b[0m \u001b[39mtry\u001b[39;00m:\n\u001b[0;32m-> 1292\u001b[0m     new_values \u001b[39m=\u001b[39m astype_array(values, dtype, copy\u001b[39m=\u001b[39;49mcopy)\n\u001b[1;32m   1293\u001b[0m \u001b[39mexcept\u001b[39;00m (\u001b[39mValueError\u001b[39;00m, \u001b[39mTypeError\u001b[39;00m):\n\u001b[1;32m   1294\u001b[0m     \u001b[39m# e.g. astype_nansafe can fail on object-dtype of strings\u001b[39;00m\n\u001b[1;32m   1295\u001b[0m     \u001b[39m#  trying to convert to float\u001b[39;00m\n\u001b[1;32m   1296\u001b[0m     \u001b[39mif\u001b[39;00m errors \u001b[39m==\u001b[39m \u001b[39m\"\u001b[39m\u001b[39mignore\u001b[39m\u001b[39m\"\u001b[39m:\n",
      "File \u001b[0;32m~/opt/anaconda3/lib/python3.9/site-packages/pandas/core/dtypes/cast.py:1237\u001b[0m, in \u001b[0;36mastype_array\u001b[0;34m(values, dtype, copy)\u001b[0m\n\u001b[1;32m   1234\u001b[0m     values \u001b[39m=\u001b[39m values\u001b[39m.\u001b[39mastype(dtype, copy\u001b[39m=\u001b[39mcopy)\n\u001b[1;32m   1236\u001b[0m \u001b[39melse\u001b[39;00m:\n\u001b[0;32m-> 1237\u001b[0m     values \u001b[39m=\u001b[39m astype_nansafe(values, dtype, copy\u001b[39m=\u001b[39;49mcopy)\n\u001b[1;32m   1239\u001b[0m \u001b[39m# in pandas we don't store numpy str dtypes, so convert to object\u001b[39;00m\n\u001b[1;32m   1240\u001b[0m \u001b[39mif\u001b[39;00m \u001b[39misinstance\u001b[39m(dtype, np\u001b[39m.\u001b[39mdtype) \u001b[39mand\u001b[39;00m \u001b[39missubclass\u001b[39m(values\u001b[39m.\u001b[39mdtype\u001b[39m.\u001b[39mtype, \u001b[39mstr\u001b[39m):\n",
      "File \u001b[0;32m~/opt/anaconda3/lib/python3.9/site-packages/pandas/core/dtypes/cast.py:1098\u001b[0m, in \u001b[0;36mastype_nansafe\u001b[0;34m(arr, dtype, copy, skipna)\u001b[0m\n\u001b[1;32m   1096\u001b[0m \u001b[39mif\u001b[39;00m arr\u001b[39m.\u001b[39mndim \u001b[39m>\u001b[39m \u001b[39m1\u001b[39m:\n\u001b[1;32m   1097\u001b[0m     flat \u001b[39m=\u001b[39m arr\u001b[39m.\u001b[39mravel()\n\u001b[0;32m-> 1098\u001b[0m     result \u001b[39m=\u001b[39m astype_nansafe(flat, dtype, copy\u001b[39m=\u001b[39;49mcopy, skipna\u001b[39m=\u001b[39;49mskipna)\n\u001b[1;32m   1099\u001b[0m     \u001b[39m# error: Item \"ExtensionArray\" of \"Union[ExtensionArray, ndarray]\" has no\u001b[39;00m\n\u001b[1;32m   1100\u001b[0m     \u001b[39m# attribute \"reshape\"\u001b[39;00m\n\u001b[1;32m   1101\u001b[0m     \u001b[39mreturn\u001b[39;00m result\u001b[39m.\u001b[39mreshape(arr\u001b[39m.\u001b[39mshape)  \u001b[39m# type: ignore[union-attr]\u001b[39;00m\n",
      "File \u001b[0;32m~/opt/anaconda3/lib/python3.9/site-packages/pandas/core/dtypes/cast.py:1181\u001b[0m, in \u001b[0;36mastype_nansafe\u001b[0;34m(arr, dtype, copy, skipna)\u001b[0m\n\u001b[1;32m   1177\u001b[0m     \u001b[39mraise\u001b[39;00m \u001b[39mValueError\u001b[39;00m(msg)\n\u001b[1;32m   1179\u001b[0m \u001b[39mif\u001b[39;00m copy \u001b[39mor\u001b[39;00m is_object_dtype(arr\u001b[39m.\u001b[39mdtype) \u001b[39mor\u001b[39;00m is_object_dtype(dtype):\n\u001b[1;32m   1180\u001b[0m     \u001b[39m# Explicit copy, or required since NumPy can't view from / to object.\u001b[39;00m\n\u001b[0;32m-> 1181\u001b[0m     \u001b[39mreturn\u001b[39;00m arr\u001b[39m.\u001b[39;49mastype(dtype, copy\u001b[39m=\u001b[39;49m\u001b[39mTrue\u001b[39;49;00m)\n\u001b[1;32m   1183\u001b[0m \u001b[39mreturn\u001b[39;00m arr\u001b[39m.\u001b[39mastype(dtype, copy\u001b[39m=\u001b[39mcopy)\n",
      "\u001b[0;31mValueError\u001b[0m: could not convert string to float: 'CD'"
     ]
    }
   ],
   "source": [
    "import statsmodels.api as sm\n",
    "import numpy as np\n",
    "\n",
    "# Start from a null model with intercept only\n",
    "df_train = df_train.astype(float)\n",
    "X_train = sm.add_constant(np.ones(df_train.shape[0]))\n",
    "y_train = df_train['Retained.in.2012.']\n",
    "logit_model_null = sm.Logit(y_train, X_train)\n",
    "result_null = logit_model_null.fit(disp=0)\n",
    "\n",
    "# Add one covariate at a time until maximum BIC\n",
    "# Prepare a full model with all covariates\n",
    "X_full = sm.add_constant(df_train.drop('Retained.in.2012.', axis=1))\n",
    "logit_model_full = sm.Logit(y_train, X_full)\n",
    "result_full = logit_model_full.fit(disp=0)\n",
    "\n",
    "# Calculate the BIC for each model in the sequence\n",
    "bic_null = result_null.bic\n",
    "bic_full = result_full.bic\n",
    "bic_diff = bic_full - bic_null\n",
    "\n",
    "# Select the best model by maximum BIC\n",
    "selected_cols = []\n",
    "for i in range(df_train.shape[1] - 1):\n",
    "    bic_best = bic_diff.idxmin()\n",
    "    selected_cols.append(bic_best)\n",
    "    bic_diff = bic_diff.drop(bic_best)\n",
    "    X_train = X_train.assign(**{bic_best: df_train[bic_best]})\n"
   ]
  },
  {
   "cell_type": "markdown",
   "id": "7dbc2ca7",
   "metadata": {
    "lines_to_next_cell": 0
   },
   "source": [
    "The algorithm stops once none of the 1-step expanded models lead to a lower BIC.\n",
    "\n",
    "This is the selected model."
   ]
  },
  {
   "cell_type": "code",
   "execution_count": null,
   "id": "4770818b",
   "metadata": {},
   "outputs": [],
   "source": [
    "summary(lgfit.selected)"
   ]
  },
  {
   "cell_type": "markdown",
   "id": "77b5d095",
   "metadata": {
    "lines_to_next_cell": 0
   },
   "source": [
    "You can predict probabilities from this model using the following."
   ]
  },
  {
   "cell_type": "code",
   "execution_count": null,
   "id": "49e4b763",
   "metadata": {},
   "outputs": [],
   "source": [
    "phat.lgfit.selected <- predict(lgfit.selected, \n",
    "                               newdata = df.test,\n",
    "                               type = \"response\")"
   ]
  },
  {
   "cell_type": "markdown",
   "id": "389bb927",
   "metadata": {
    "lines_to_next_cell": 0
   },
   "source": [
    "You will use these probabilities later.\n",
    "\n",
    "While we are investigating variable selection in logistic regression models, \n",
    "let us also use a more modern approach to variable selection. We will \n",
    "use the lasso. \n",
    "\n",
    "If you have not seen this in BUS 41100 Applied regression course,\n",
    "do not worry. We will provide more details in the Week 5.\n",
    "You can also check Section 6.2.2 of the [ISLR](https://statlearning.com/) book.\n",
    "\n",
    "I provide the code to fit a lasso logistic regression model.\n",
    "We find coefficients $\\beta$ that minimize the deviance\n",
    "loss plus the penalty:\n",
    "\\[\n",
    "-2\\cdot\\sum_{i=1}^n \\log p(y_i, x_i; \\beta) + \\lambda \\sum_{j=1}^p |\\beta_j|.\n",
    "\\]\n",
    "Here, $\\lambda$ is the user chosen penalty that controls the flexibility of the fit.\n",
    "\n",
    "First, we need to create a model matrix that will be used as an input to the package."
   ]
  },
  {
   "cell_type": "code",
   "execution_count": null,
   "id": "7e411dc2",
   "metadata": {},
   "outputs": [],
   "source": [
    "X <- model.matrix(formula(lgfit.all), STCdata_A)\n",
    "#need to subtract the intercept\n",
    "X <- X[,-1]\n",
    "\n",
    "X.train = X[ inTrain, ]\n",
    "X.test = X[ -inTrain, ]"
   ]
  },
  {
   "cell_type": "markdown",
   "id": "45d6bb7c",
   "metadata": {
    "lines_to_next_cell": 0
   },
   "source": [
    "Next, we run 5-fold cross-validation."
   ]
  },
  {
   "cell_type": "code",
   "execution_count": null,
   "id": "e7a6f2bb",
   "metadata": {},
   "outputs": [],
   "source": [
    "cv.l1.lgfit <- cv.glmnet(\n",
    "  x       = X.train, \n",
    "  y       = df.train$Retained.in.2012.,\n",
    "  family  = \"binomial\", \n",
    "  alpha   = 1,   #alpha=0 gives ridge regression\n",
    "  nfolds  = 5)"
   ]
  },
  {
   "cell_type": "markdown",
   "id": "723a1744",
   "metadata": {},
   "source": [
    "We can plot the cross-validation curve, which shows us an estimate of out-of-sample deviance \n",
    "as a function of the tuning parameter $\\lambda$.\n",
    "The x-axis represents to $-\\log(\\lambda)$. \n",
    "Therefore, on the left we have large values of $\\lambda$\n",
    "and on the right we have small values of $\\lambda$. \n",
    "At the top, you can see the number variables that were selected into the model.\n",
    "The two vertical dashed lines correspond to $\\lambda$ values that \n",
    "minimize the cross-validation error and \n",
    "the largest value of lambda such that error is within 1 standard error of the minimum."
   ]
  },
  {
   "cell_type": "code",
   "execution_count": null,
   "id": "a84daf1f",
   "metadata": {
    "lines_to_next_cell": 2
   },
   "outputs": [],
   "source": [
    "plot(cv.l1.lgfit, sign.lambda=-1)"
   ]
  },
  {
   "cell_type": "markdown",
   "id": "1ddde543",
   "metadata": {},
   "source": [
    "Let us know plot the fitted coefficients as a function of $\\lambda$.\n",
    "Note that `cv.l1.lgfit$glmnet.fit` corresponds to a fitted glmnet object for the full data."
   ]
  },
  {
   "cell_type": "code",
   "execution_count": null,
   "id": "153fe3d3",
   "metadata": {},
   "outputs": [],
   "source": [
    "glmnet.fit <- cv.l1.lgfit$glmnet.fit\n",
    "plot(glmnet.fit, xvar = \"lambda\")\n",
    "abline(v = log(cv.l1.lgfit$lambda.min), lty=2, col=\"red\")\n",
    "abline(v = log(cv.l1.lgfit$lambda.1se), lty=2, col=\"green\")\n",
    "legend(\"topright\", legend=c(\"min\", \"1se\"), lty=2, col=c(\"red\", \"green\"))"
   ]
  },
  {
   "cell_type": "markdown",
   "id": "e604f2e9",
   "metadata": {},
   "source": [
    "For our predictive model, we will use 1 standard error $\\lambda$.\n",
    "Below you can see the variables that are selected by the lasso."
   ]
  },
  {
   "cell_type": "code",
   "execution_count": null,
   "id": "6b1c6fdc",
   "metadata": {},
   "outputs": [],
   "source": [
    "betas <- coef(cv.l1.lgfit, s = \"lambda.1se\")\n",
    "model.1se <- which(betas[2:length(betas)]!=0)\n",
    "colnames(X[,model.1se])"
   ]
  },
  {
   "cell_type": "markdown",
   "id": "9fe3e5fb",
   "metadata": {},
   "source": [
    "We now use our model to predict probabilities on the test set."
   ]
  },
  {
   "cell_type": "code",
   "execution_count": null,
   "id": "2ba2b430",
   "metadata": {
    "lines_to_next_cell": 2
   },
   "outputs": [],
   "source": [
    "phat.l1.lgfit <- predict(glmnet.fit,\n",
    "                         newx = X.test,\n",
    "                         s = cv.l1.lgfit$lambda.1se,\n",
    "                         type = \"response\")"
   ]
  },
  {
   "cell_type": "markdown",
   "id": "d4f85e14",
   "metadata": {},
   "source": [
    "# Questions\n",
    "\n",
    "## How well does logistic regression do?\n",
    "\n",
    "1. Create a confusion matrix for two logistic regression models build above.\n",
    "   Use probabilities `phat.lgfit.selected` and `phat.l1.lgfit` to do so.\n",
    "   \n",
    "   To solve this question, you need to make a major decision. \n",
    "   What should the cutoff or \"threshold\" for the probability be,\n",
    "   above which you will label a customer as being classified as \"retained?\"\n",
    "   In our case, the data is slightly unbalanced---about 60.72% of data points are in Class 1.\n",
    "   For very unbalanced data, we would first need to balance it (over- or under-sample).\n",
    "   In this case, the benefits of balancing are unclear, hence one can implement \n",
    "   the average probability of being retained as a cutoff. \n",
    "   \n",
    "   Predict classification using 0.6072 threshold.\n",
    "   \n",
    "   What can we see from the confusion matrices?\n",
    "   \n",
    "2. Plot ROC curves for the two classifiers and report the area under the curve.\n",
    "\n",
    "   Note that the AUC of an error-free classifier would be 100%, \n",
    "   and an AUC of a random guess would be 50%. For values in-between,\n",
    "   we can think of AUC as follows:\n",
    "   \n",
    "   - 90%+ = excellent,\n",
    "   - 80–90% = very good, \n",
    "   - 70–80% = good, \n",
    "   - 60–70% = so-so, and\n",
    "   - below 60% = not much value.\n",
    "\n",
    "3. Plot lift curves for the two classifiers.\n",
    "\n",
    "4. Create the profit curve (the amount of net profit vs the number \n",
    "   of groups targeted for promotion) for the two classifiers. \n",
    "   Suppose that the benefit of retaining a group is $100, \n",
    "   while the cost of a promotion is $40. \n",
    "   \n",
    "   How many groups should be targeted to maximize the profit?\n",
    "   \n",
    "   How would this number change as the ratio between the benefit and cost changes?\n",
    "\n",
    "   You can refer to the following code that plots a profit curve:   \n",
    "   ```{r}\n",
    "  # Function to plot a profit curve\n",
    "  #\n",
    "  # Inputs:\n",
    "  #  - benefitTP(FN/FP/TN): the net benefit for a true positive (false negative,...)\n",
    "  #      which is positive for a gain, and negative for a loss\n",
    "  #  - y: vector of true labels, which has to be labeled as \"0\" and \"1\"\n",
    "  #  - phat: vector of predicted probabilities\n",
    "  # Outputs:\n",
    "  #    the function returns the profit curve\n",
    "  \n",
    "  ProfitCurve <- function(benefitTP, benefitFN, benefitFP, benefitTN, y, phat){\n",
    "    \n",
    "    if(length(y) != length(phat)) stop(\"Length of y and phat not identical\")\n",
    "    if(length(levels(y))!=2 | levels(y)[1]!=\"0\" | levels(y)[2]!=\"1\")\n",
    "      stop(\"y should be a vector of factors, only with levels 0 and 1\")\n",
    "    \n",
    "    n <- length(y)\n",
    "    df <- data.frame(y, phat)\n",
    "    # Order phat so that we can pick the k highest groups for promotion\n",
    "    df <- df[order(df[,2], decreasing = T),]\n",
    "    TP <- 0; FP <- 0; FN <- table(y)[2]; TN <- table(y)[1]\n",
    "    \n",
    "    # Initializing the x and y coordinates of the plot\n",
    "    ratio.vec <- seq(0,n)/n\n",
    "    profit.vec <- rep(0,n+1)\n",
    "    profit.vec[1] <- FN * benefitFN + TN * benefitTN\n",
    "    \n",
    "    for(k in 1:n){ # k is the number of groups classified as \"YES\"\n",
    "      # In every round, we are picking one more group for promotion.\n",
    "      # If this group was ratained (positive), then in this round, it is classified\n",
    "      # as a \"YES\" instead of \"NO\" before. The confusion matrix is updated each round\n",
    "      # with one more TP, and one less FN. It's similar when the group was not ratained.\n",
    "      if(df[k,1]==\"1\"){TP <- TP + 1; FN <- FN - 1}\n",
    "      else{FP <- FP + 1; TN <- TN - 1}\n",
    "      #print(paste(TP, FP, TP-FP, benefitTP, benefitFP))\n",
    "      profit.vec[k+1] <- TP*benefitTP + FP*benefitFP + FN*benefitFN + TN*benefitTN\n",
    "    }\n",
    "    \n",
    "    plt <- plot(ratio.vec, profit.vec, type=\"l\", lwd=2, col=4, main=\"Profit Curve\",\n",
    "                xlab=\"Percentage of Targetted Groups\", ylab=\"Profit\")\n",
    "    abline(b=(profit.vec[n+1]-profit.vec[1]), a=profit.vec[1], lty=2) #Random guess\n",
    "    return(plt)\n",
    "  }\n",
    "  ```"
   ]
  },
  {
   "cell_type": "markdown",
   "id": "d3d2f3ed",
   "metadata": {},
   "source": [
    "5. Develop a decision tree, random forest, and a boosting model using the training data.\n",
    "   \n",
    "   Report ROC, AUC, lift, and profit curves for these models.\n",
    "   \n",
    "   How do these methods compare to the logistic regression models?\n",
    "   \n",
    "6. Investigate whether David can improve performance of his models using    \n",
    "   data he received from Emily.\n",
    "   \n",
    "   Note that in order to ensure true apples-to-apples comparison, you should\n",
    "   use the same split of data into train and test.\n",
    "   \n",
    "   You can load and merge data as follows. \n",
    "   ```{r}\n",
    "   STCdata_A <- read.csv('travelData.csv')\n",
    "   STCdata_B <- read.csv('travelData_supplement.csv')\n",
    "   STCdata_merged = merge(STCdata_A, STCdata_B, by = 'ID')\n",
    "   STCdata_merged <- STCdata_merged[,-1]\n",
    "   ```\n",
    "   Remember to fix missing values and combine rare categories.\n",
    "   \n",
    "   Comment on the improvement (or lack thereof) from incorporating the NPS data.\n"
   ]
  }
 ],
 "metadata": {
  "jupytext": {
   "cell_metadata_filter": "message,name,tags,-all",
   "main_language": "R",
   "notebook_metadata_filter": "-all"
  },
  "kernelspec": {
   "display_name": "base",
   "language": "python",
   "name": "python3"
  },
  "language_info": {
   "codemirror_mode": {
    "name": "ipython",
    "version": 3
   },
   "file_extension": ".py",
   "mimetype": "text/x-python",
   "name": "python",
   "nbconvert_exporter": "python",
   "pygments_lexer": "ipython3",
   "version": "3.9.13"
  },
  "vscode": {
   "interpreter": {
    "hash": "3aebcf67cc29b314be79f51fd8d1736517ecad5ca0a5890edf173d6fd802b996"
   }
  }
 },
 "nbformat": 4,
 "nbformat_minor": 5
}

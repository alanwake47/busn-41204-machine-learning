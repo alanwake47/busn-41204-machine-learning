{
 "cells": [
  {
   "attachments": {},
   "cell_type": "markdown",
   "metadata": {},
   "source": [
    "# Homework 4\n",
    "## BUSN 41204 - 2023\n",
    "\n",
    "- Aman Krishna\n",
    "- Christian Pavilanis\n",
    "- Jingwen Li\n",
    "- Yazmin Ramirez Delgado"
   ]
  },
  {
   "cell_type": "code",
   "execution_count": 2,
   "metadata": {
    "vscode": {
     "languageId": "r"
    }
   },
   "outputs": [],
   "source": [
    "train <-read.csv('/Users/amankrishna/Git/busn-41204-machine-learning/week5/hw4/housing_train.csv')"
   ]
  },
  {
   "cell_type": "code",
   "execution_count": 3,
   "metadata": {
    "vscode": {
     "languageId": "r"
    }
   },
   "outputs": [],
   "source": [
    "run_forward_selection_BIC = function(y, X){\n",
    "  S = store_RSS = c()\n",
    "  p = dim(X)[2]\n",
    "  \n",
    "  for(i in 1:p){\n",
    "  \t\tRSS = rep(0,p)\n",
    "  \t\tfor(j in 1:p){\n",
    "  \t\t  S0 = append(S,j)\n",
    "  \t\t  RSS[j] = sum((y-lm(y~X[,S0])$fitted.values)^2)\n",
    "  \t\t}\n",
    "  \t\tstore_RSS[i+1] = min(RSS)\n",
    "  \t\tind = which.min(RSS)\n",
    "  \t\tS = append(S,ind)\n",
    "  }\n",
    "  \n",
    "  \tBIC = n*log(store_RSS) + (0:p)*log(n)\n",
    "  \tmodelsize = which.min(BIC)-1\n",
    "  \t\n",
    "\t\tpar(mfrow=c(1,2))\n",
    "\t\tplot(0:p, store_RSS, xlab='Model Size', ylab='RSS')\n",
    "  \tplot(0:p, BIC, xlab='Model Size', ylab='BIC')\n",
    "}"
   ]
  },
  {
   "cell_type": "code",
   "execution_count": 4,
   "metadata": {
    "vscode": {
     "languageId": "r"
    }
   },
   "outputs": [],
   "source": [
    "#find the log of Sale_Price\n",
    "train$Sale_Price = log(train$Sale_Price)"
   ]
  },
  {
   "cell_type": "code",
   "execution_count": 14,
   "metadata": {
    "vscode": {
     "languageId": "r"
    }
   },
   "outputs": [],
   "source": [
    "#Splot the data into X and y\n",
    "X = train[,c(0:99)]\n",
    "y = train$Sale_Price"
   ]
  },
  {
   "cell_type": "code",
   "execution_count": 19,
   "metadata": {
    "vscode": {
     "languageId": "r"
    }
   },
   "outputs": [
    {
     "name": "stdout",
     "output_type": "stream",
     "text": [
      "'data.frame':\t2049 obs. of  99 variables:\n",
      " $ Lot_Frontage                        : int  141 80 81 78 41 39 60 75 63 85 ...\n",
      " $ Lot_Area                            : int  31770 11622 14267 9978 4920 5389 7500 10000 8402 10176 ...\n",
      " $ Year_Built                          : int  1960 1961 1958 1998 2001 1995 1999 1993 1998 1990 ...\n",
      " $ Year_Remod_Add                      : int  1960 1961 1958 1998 2001 1996 1999 1994 1998 1990 ...\n",
      " $ Mas_Vnr_Area                        : int  112 0 108 20 0 0 0 0 0 0 ...\n",
      " $ BsmtFin_SF_1                        : int  2 6 1 3 3 3 7 7 7 3 ...\n",
      " $ BsmtFin_SF_2                        : int  0 144 0 0 0 0 0 0 0 0 ...\n",
      " $ Bsmt_Unf_SF                         : int  441 270 406 324 722 415 994 763 789 663 ...\n",
      " $ First_Flr_SF                        : int  1656 896 1329 926 1338 1616 1028 763 789 1341 ...\n",
      " $ Low_Qual_Fin_SF                     : int  0 0 0 0 0 0 0 0 0 0 ...\n",
      " $ Bsmt_Full_Bath                      : int  1 0 0 0 1 1 0 0 0 1 ...\n",
      " $ Bsmt_Half_Bath                      : int  0 0 0 0 0 0 0 0 0 0 ...\n",
      " $ Full_Bath                           : int  1 1 1 2 2 2 2 2 2 1 ...\n",
      " $ Half_Bath                           : int  0 0 1 1 0 0 1 1 1 1 ...\n",
      " $ Bedroom_AbvGr                       : int  3 2 3 3 2 2 3 3 3 2 ...\n",
      " $ Kitchen_AbvGr                       : int  1 1 1 1 1 1 1 1 1 1 ...\n",
      " $ TotRms_AbvGrd                       : int  7 5 6 7 6 5 7 7 7 5 ...\n",
      " $ Fireplaces                          : int  2 0 0 1 0 1 1 1 1 1 ...\n",
      " $ Garage_Area                         : int  528 730 312 470 582 608 442 440 393 506 ...\n",
      " $ Wood_Deck_SF                        : int  210 140 393 360 0 237 140 157 0 192 ...\n",
      " $ Open_Porch_SF                       : int  62 0 36 36 0 152 60 84 75 0 ...\n",
      " $ Enclosed_Porch                      : int  0 0 0 0 170 0 0 0 0 0 ...\n",
      " $ Three_season_porch                  : int  0 0 0 0 0 0 0 0 0 0 ...\n",
      " $ Screen_Porch                        : int  0 120 0 0 0 0 0 0 0 0 ...\n",
      " $ Misc_Val                            : int  0 0 12500 0 0 0 0 0 0 0 ...\n",
      " $ Mo_Sold                             : int  5 6 6 6 4 3 6 4 5 2 ...\n",
      " $ Year_Sold                           : int  2010 2010 2010 2010 2010 2010 2010 2010 2010 2010 ...\n",
      " $ Longitude                           : num  -93.6 -93.6 -93.6 -93.6 -93.6 ...\n",
      " $ Latitude                            : num  42.1 42.1 42.1 42.1 42.1 ...\n",
      " $ MS_SubClass_other                   : int  0 0 0 0 1 1 0 0 0 0 ...\n",
      " $ MS_Zoning_Residential_Medium_Density: int  0 0 0 0 0 0 0 0 0 0 ...\n",
      " $ MS_Zoning_other                     : int  0 1 0 0 0 0 0 0 0 0 ...\n",
      " $ Street_other                        : int  0 0 0 0 0 0 0 0 0 0 ...\n",
      " $ Alley_other                         : int  0 0 0 0 0 0 0 0 0 0 ...\n",
      " $ Lot_Shape_Slightly_Irregular        : int  1 0 1 1 0 1 0 1 1 0 ...\n",
      " $ Lot_Shape_other                     : int  0 0 0 0 0 0 0 0 0 0 ...\n",
      " $ Land_Contour_other                  : int  0 0 0 0 0 0 0 0 0 0 ...\n",
      " $ Utilities_other                     : int  0 0 0 0 0 0 0 0 0 0 ...\n",
      " $ Lot_Config_Inside                   : int  0 1 0 1 1 1 1 0 1 1 ...\n",
      " $ Lot_Config_other                    : int  0 0 0 0 0 0 0 0 0 0 ...\n",
      " $ Land_Slope_other                    : int  0 0 0 0 0 0 0 0 0 0 ...\n",
      " $ Neighborhood_other                  : int  0 0 0 1 1 1 1 1 1 1 ...\n",
      " $ Condition_1_other                   : int  0 1 0 0 0 0 0 0 0 0 ...\n",
      " $ Condition_2_other                   : int  0 0 0 0 0 0 0 0 0 0 ...\n",
      " $ Bldg_Type_other                     : int  0 0 0 0 1 1 0 0 0 0 ...\n",
      " $ House_Style_One_Story               : int  1 1 1 0 1 1 0 0 0 1 ...\n",
      " $ House_Style_other                   : int  0 0 0 0 0 0 0 0 0 0 ...\n",
      " $ Overall_Qual_Above_Average          : int  1 0 1 1 0 0 0 1 1 0 ...\n",
      " $ Overall_Qual_Good                   : int  0 0 0 0 0 0 1 0 0 1 ...\n",
      " $ Overall_Qual_Very_Good              : int  0 0 0 0 1 1 0 0 0 0 ...\n",
      " $ Overall_Qual_other                  : int  0 0 0 0 0 0 0 0 0 0 ...\n",
      " $ Overall_Cond_Above_Average          : int  0 1 1 1 0 0 0 0 0 0 ...\n",
      " $ Overall_Cond_Good                   : int  0 0 0 0 0 0 0 0 0 0 ...\n",
      " $ Overall_Cond_other                  : int  0 0 0 0 0 0 0 0 0 0 ...\n",
      " $ Roof_Style_Hip                      : int  1 0 1 0 0 0 0 0 0 0 ...\n",
      " $ Roof_Style_other                    : int  0 0 0 0 0 0 0 0 0 0 ...\n",
      " $ Roof_Matl_other                     : int  0 0 0 0 0 0 0 0 0 0 ...\n",
      " $ Exterior_2nd_MetalSd                : int  0 0 0 0 0 0 0 0 0 0 ...\n",
      " $ Exterior_2nd_VinylSd                : int  0 1 0 1 0 0 1 0 1 0 ...\n",
      " $ Exterior_2nd_Wd.Sdng                : int  0 0 1 0 0 0 0 0 0 0 ...\n",
      " $ Exterior_2nd_other                  : int  1 0 0 0 1 1 0 0 0 0 ...\n",
      " $ Mas_Vnr_Type_other                  : int  1 0 0 0 0 0 0 0 0 0 ...\n",
      " $ Exter_Qual_Typical                  : int  1 1 1 1 0 0 1 1 1 1 ...\n",
      " $ Exter_Qual_other                    : int  0 0 0 0 0 0 0 0 0 0 ...\n",
      " $ Exter_Cond_Typical                  : int  1 1 1 1 1 1 1 1 1 1 ...\n",
      " $ Exter_Cond_other                    : int  0 0 0 0 0 0 0 0 0 0 ...\n",
      " $ Foundation_CBlock                   : int  1 1 1 0 0 0 0 0 0 0 ...\n",
      " $ Foundation_other                    : int  0 0 0 0 0 0 0 0 0 0 ...\n",
      " $ Bsmt_Qual_Typical                   : int  1 1 1 1 0 0 1 0 0 0 ...\n",
      " $ Bsmt_Qual_other                     : int  0 0 0 0 0 0 0 0 0 0 ...\n",
      " $ Bsmt_Cond_other                     : int  1 0 0 0 0 0 0 0 0 0 ...\n",
      " $ Bsmt_Exposure_No                    : int  0 1 1 1 0 1 1 1 1 0 ...\n",
      " $ Bsmt_Exposure_other                 : int  1 0 0 0 1 0 0 0 0 1 ...\n",
      " $ BsmtFin_Type_1_GLQ                  : int  0 0 0 1 1 1 0 0 0 1 ...\n",
      " $ BsmtFin_Type_1_other                : int  1 1 0 0 0 0 0 0 0 0 ...\n",
      " $ Heating_other                       : int  0 0 0 0 0 0 0 0 0 0 ...\n",
      " $ Heating_QC_Good                     : int  0 0 0 0 0 0 1 1 1 1 ...\n",
      " $ Heating_QC_Typical                  : int  0 1 1 0 0 0 0 0 0 0 ...\n",
      " $ Heating_QC_other                    : int  1 0 0 0 0 0 0 0 0 0 ...\n",
      " $ Central_Air_other                   : int  0 0 0 0 0 0 0 0 0 0 ...\n",
      " $ Electrical_other                    : int  0 0 0 0 0 0 0 0 0 0 ...\n",
      " $ Kitchen_Qual_Typical                : int  1 1 0 0 0 0 0 1 1 0 ...\n",
      " $ Kitchen_Qual_other                  : int  0 0 0 0 0 0 0 0 0 0 ...\n",
      " $ Functional_other                    : int  0 0 0 0 0 0 0 0 0 0 ...\n",
      " $ Fireplace_Qu_Typical                : int  0 0 0 0 0 1 1 1 0 0 ...\n",
      " $ Fireplace_Qu_other                  : int  0 0 0 0 0 0 0 0 0 1 ...\n",
      " $ Garage_Type_Detchd                  : int  0 0 0 0 0 0 0 0 0 0 ...\n",
      " $ Garage_Type_other                   : int  0 0 0 0 0 0 0 0 0 0 ...\n",
      " $ Garage_Finish_RFn                   : int  0 0 0 0 0 1 0 0 0 0 ...\n",
      " $ Garage_Finish_Unf                   : int  0 1 1 0 0 0 0 0 0 1 ...\n",
      " $ Garage_Finish_other                 : int  0 0 0 0 0 0 0 0 0 0 ...\n",
      " $ Paved_Drive_other                   : int  1 0 0 0 0 0 0 0 0 0 ...\n",
      " $ Pool_QC_other                       : int  0 0 0 0 0 0 0 0 0 0 ...\n",
      " $ Fence_No_Fence                      : int  1 0 1 1 1 1 1 1 1 1 ...\n",
      " $ Fence_other                         : int  0 0 0 0 0 0 0 0 0 0 ...\n",
      " $ Misc_Feature_other                  : int  0 0 1 0 0 0 0 0 0 0 ...\n",
      " $ Sale_Type_other                     : int  0 0 0 0 0 0 0 0 0 0 ...\n",
      " $ Sale_Condition_other                : int  0 0 0 0 0 0 0 0 0 0 ...\n",
      " $ Gr_Liv_Area                         : int  1656 896 1329 1604 1338 1616 1804 1655 1465 1341 ...\n"
     ]
    }
   ],
   "source": [
    "str(X)"
   ]
  },
  {
   "cell_type": "code",
   "execution_count": 16,
   "metadata": {
    "vscode": {
     "languageId": "r"
    }
   },
   "outputs": [
    {
     "ename": "ERROR",
     "evalue": "Error in model.frame.default(formula = y ~ X[, S0], drop.unused.levels = TRUE): invalid type (list) for variable 'X[, S0]'\n",
     "output_type": "error",
     "traceback": [
      "Error in model.frame.default(formula = y ~ X[, S0], drop.unused.levels = TRUE): invalid type (list) for variable 'X[, S0]'\nTraceback:\n",
      "1. run_forward_selection_BIC(y, X)",
      "2. lm(y ~ X[, S0])   # at line 9 of file <text>",
      "3. eval(mf, parent.frame())",
      "4. eval(mf, parent.frame())",
      "5. stats::model.frame(formula = y ~ X[, S0], drop.unused.levels = TRUE)",
      "6. model.frame.default(formula = y ~ X[, S0], drop.unused.levels = TRUE)"
     ]
    }
   ],
   "source": [
    "run_forward_selection_BIC(y, X)"
   ]
  }
 ],
 "metadata": {
  "kernelspec": {
   "display_name": "R",
   "language": "R",
   "name": "ir"
  },
  "language_info": {
   "codemirror_mode": "r",
   "file_extension": ".r",
   "mimetype": "text/x-r-source",
   "name": "R",
   "pygments_lexer": "r",
   "version": "4.2.2"
  },
  "orig_nbformat": 4,
  "vscode": {
   "interpreter": {
    "hash": "3aebcf67cc29b314be79f51fd8d1736517ecad5ca0a5890edf173d6fd802b996"
   }
  }
 },
 "nbformat": 4,
 "nbformat_minor": 2
}

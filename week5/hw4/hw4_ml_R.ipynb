{
 "cells": [
  {
   "attachments": {},
   "cell_type": "markdown",
   "metadata": {},
   "source": [
    "# Homework 4\n",
    "## BUSN 41204 - 2023\n",
    "\n",
    "- Aman Krishna\n",
    "- Christian Pavilanis\n",
    "- Jingwen Li\n",
    "- Yazmin Ramirez Delgado"
   ]
  },
  {
   "cell_type": "code",
   "execution_count": 2,
   "metadata": {
    "vscode": {
     "languageId": "r"
    }
   },
   "outputs": [],
   "source": [
    "train <-read.csv('/Users/amankrishna/Git/busn-41204-machine-learning/week5/hw4/housing_train.csv')"
   ]
  },
  {
   "cell_type": "code",
   "execution_count": 3,
   "metadata": {
    "vscode": {
     "languageId": "r"
    }
   },
   "outputs": [],
   "source": [
    "run_forward_selection_BIC = function(y, X){\n",
    "  S = store_RSS = c()\n",
    "  p = dim(X)[2]\n",
    "  \n",
    "  for(i in 1:p){\n",
    "  \t\tRSS = rep(0,p)\n",
    "  \t\tfor(j in 1:p){\n",
    "  \t\t  S0 = append(S,j)\n",
    "  \t\t  RSS[j] = sum((y-lm(y~X[,S0])$fitted.values)^2)\n",
    "  \t\t}\n",
    "  \t\tstore_RSS[i+1] = min(RSS)\n",
    "  \t\tind = which.min(RSS)\n",
    "  \t\tS = append(S,ind)\n",
    "  }\n",
    "  \n",
    "  \tBIC = n*log(store_RSS) + (0:p)*log(n)\n",
    "  \tmodelsize = which.min(BIC)-1\n",
    "  \t\n",
    "\t\tpar(mfrow=c(1,2))\n",
    "\t\tplot(0:p, store_RSS, xlab='Model Size', ylab='RSS')\n",
    "  \tplot(0:p, BIC, xlab='Model Size', ylab='BIC')\n",
    "}"
   ]
  },
  {
   "cell_type": "code",
   "execution_count": 4,
   "metadata": {
    "vscode": {
     "languageId": "r"
    }
   },
   "outputs": [],
   "source": [
    "#find the log of Sale_Price\n",
    "train$Sale_Price = log(train$Sale_Price)"
   ]
  },
  {
   "cell_type": "code",
   "execution_count": 14,
   "metadata": {
    "vscode": {
     "languageId": "r"
    }
   },
   "outputs": [],
   "source": [
    "#Splot the data into X and y\n",
    "X = train[,c(0:99)]\n",
    "y = train$Sale_Price"
   ]
  },
  {
   "cell_type": "code",
   "execution_count": 16,
   "metadata": {
    "vscode": {
     "languageId": "r"
    }
   },
   "outputs": [
    {
     "ename": "ERROR",
     "evalue": "Error in model.frame.default(formula = y ~ X[, S0], drop.unused.levels = TRUE): invalid type (list) for variable 'X[, S0]'\n",
     "output_type": "error",
     "traceback": [
      "Error in model.frame.default(formula = y ~ X[, S0], drop.unused.levels = TRUE): invalid type (list) for variable 'X[, S0]'\nTraceback:\n",
      "1. run_forward_selection_BIC(y, X)",
      "2. lm(y ~ X[, S0])   # at line 9 of file <text>",
      "3. eval(mf, parent.frame())",
      "4. eval(mf, parent.frame())",
      "5. stats::model.frame(formula = y ~ X[, S0], drop.unused.levels = TRUE)",
      "6. model.frame.default(formula = y ~ X[, S0], drop.unused.levels = TRUE)"
     ]
    }
   ],
   "source": [
    "run_forward_selection_BIC(y, X)"
   ]
  }
 ],
 "metadata": {
  "kernelspec": {
   "display_name": "R",
   "language": "R",
   "name": "ir"
  },
  "language_info": {
   "codemirror_mode": "r",
   "file_extension": ".r",
   "mimetype": "text/x-r-source",
   "name": "R",
   "pygments_lexer": "r",
   "version": "4.2.2"
  },
  "orig_nbformat": 4,
  "vscode": {
   "interpreter": {
    "hash": "3aebcf67cc29b314be79f51fd8d1736517ecad5ca0a5890edf173d6fd802b996"
   }
  }
 },
 "nbformat": 4,
 "nbformat_minor": 2
}
